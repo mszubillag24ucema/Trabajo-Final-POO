{
 "cells": [
  {
   "cell_type": "markdown",
   "source": [
    "# Trabajo Final"
   ],
   "metadata": {
    "collapsed": false,
    "pycharm": {
     "name": "#%% md\n"
    }
   }
  },
  {
   "cell_type": "markdown",
   "source": [
    "### Objetivo del trabajo y datasets a utilizar"
   ],
   "metadata": {
    "collapsed": false,
    "pycharm": {
     "name": "#%% md\n"
    }
   }
  },
  {
   "cell_type": "markdown",
   "source": [
    "El objetivo del siguiente trabajo es estudiar si es posible realizar un modelo, que logre predecir si el contenido es para todo público o no de acuerdo a ciertas variables.\n",
    "Tener un estimado del público, puede resultarle útil a los usuarios de las plataformas para seleccionar títulos a la hora de mirar algún contenido. Otro posible uso es para los algoritmos de reproducción aleatoria cuando conocen si el espectador es adulto o niño."
   ],
   "metadata": {
    "collapsed": false,
    "pycharm": {
     "name": "#%% md\n"
    }
   }
  },
  {
   "cell_type": "markdown",
   "source": [
    "### Datasets\n",
    "\n",
    "###### Tanto los tsv importados de la página oficial de IMDb https://www.imdb.com/interfaces/ , como el csv que se ananalizó y transformó en la primera entrega de este trabajo están disponibles en el siguiente link:\n",
    "https://drive.google.com/drive/folders/1MYBuDVcZmyiLhgpdUfKaNmY_IlTihsg9?usp=sharing\n"
   ],
   "metadata": {
    "collapsed": false,
    "pycharm": {
     "name": "#%% md\n"
    }
   }
  },
  {
   "cell_type": "markdown",
   "source": [
    "Continuando con el trabajo realizado en la primera entrega, se usará como uno de los datasets base el que se analizó y transformó en primera instancia para luego mergearlo con otros que aportan más información sobre los títulos a analizar. Se cargará el csv trabajado en la primera entrega (shows_ETL) y tsv correspondientes a la información por show presente en la documentación de IMDB."
   ],
   "metadata": {
    "collapsed": false,
    "pycharm": {
     "name": "#%% md\n"
    }
   }
  },
  {
   "cell_type": "markdown",
   "source": [
    "El archivo `title_basic.tsv` contiene los siguientes campos:\n",
    "- tconst - alphanumeric unique identifier of the title\n",
    "- titleType – the type/format of the title (e.g. movie, short, tvseries, tvepisode, video, etc)\n",
    "- primaryTitle – the more popular title / the title used by the filmmakers on promotional materials at the point of release\n",
    "- originalTitle - original title, in the original language\n",
    "- isAdult - 0: non-adult title; 1: adult title\n",
    "- startYear  – represents the release year of a title. In the case of TV Series, it is the series start year\n",
    "- endYear  – TV Series end year. ‘\\N’ for all other title types\n",
    "- runtimeMinutes – primary runtime of the title, in minutes\n",
    "- genres – includes up to three genres associated with the title\n",
    "\n",
    "El archivo `shows_ETL.CSV` es el dataset final del primer análisis en este trabajo. Contiene los siguientes campos:\n",
    "- ID - id de identificación de cada show\n",
    "- Title - nombre del show\n",
    "- Year - año de estreno de la serie (primera temporada)\n",
    "- Age - edad recomendada\n",
    "- IMDb - puntuación imdb general del título, sin separar temporadas\n",
    "- Rotten Tomatoes - puntuación rotten tomatoes\n",
    "- Netflix - 1 si el contenido está en la plataforma y 0 en caso contrario\n",
    "- Hulu - 1 si el contenido está en la plataforma ; 0 en caso contrario\n",
    "- Prime Video - 1 si el contenido está en la plataforma y 0 en caso contrario\n",
    "- Disney + - 1 si el contenido está en la plataforma y 0 en caso contrario\n",
    "- Target - para que tipo de público está orientado el contenido (adulto, adolescente, todo público o indefinido)\n",
    "- Diferencia de Puntuación - entre imdb y rotten tomatoes\n",
    "- Mejor Puntuación - ranking que otorgó el mejor puntaje al contenido en cuestión\n",
    "\n",
    "\n",
    "El archivo `title.rating.tsv` contiene los siguientes campos:\n",
    "- tconst  - alphanumeric unique identifier of the title\n",
    "- averageRating – weighted average of all the individual user ratings\n",
    "- numVotes - number of votes the title has received"
   ],
   "metadata": {
    "collapsed": false,
    "pycharm": {
     "name": "#%% md\n"
    }
   }
  },
  {
   "cell_type": "code",
   "execution_count": 2,
   "outputs": [],
   "source": [
    "import pandas as pd\n",
    "import matplotlib.pyplot as plt\n",
    "import numpy as np\n",
    "from matplotlib import rcParams\n",
    "import seaborn as sns\n",
    "from sklearn.linear_model import LinearRegression\n",
    "%matplotlib inline"
   ],
   "metadata": {
    "collapsed": false,
    "pycharm": {
     "name": "#%%\n"
    }
   }
  },
  {
   "cell_type": "code",
   "execution_count": 3,
   "outputs": [
    {
     "name": "stderr",
     "output_type": "stream",
     "text": [
      "C:\\Users\\mszub\\Documents\\POO\\lib\\site-packages\\IPython\\core\\interactiveshell.py:3457: DtypeWarning: Columns (4) have mixed types.Specify dtype option on import or set low_memory=False.\n",
      "  exec(code_obj, self.user_global_ns, self.user_ns)\n"
     ]
    }
   ],
   "source": [
    "titles =  pd.read_csv('data/title_basic.tsv', sep='\\t')"
   ],
   "metadata": {
    "collapsed": false,
    "pycharm": {
     "name": "#%%\n"
    }
   }
  },
  {
   "cell_type": "code",
   "execution_count": 4,
   "outputs": [],
   "source": [
    "ratings = pd.read_csv('data/title.ratings.tsv', sep='\\t')"
   ],
   "metadata": {
    "collapsed": false,
    "pycharm": {
     "name": "#%%\n"
    }
   }
  },
  {
   "cell_type": "code",
   "execution_count": 5,
   "outputs": [],
   "source": [
    "shows = pd.read_csv(\"data/shows_ETL.csv\", index_col= 0)"
   ],
   "metadata": {
    "collapsed": false,
    "pycharm": {
     "name": "#%%\n"
    }
   }
  },
  {
   "cell_type": "markdown",
   "source": [
    "## Breve presentación de cada dataset\n",
    "Antes que nada se hará una breve análisis sobre las variables de cada archivo. Identificando cuáles serán relevantes para el análisis que se desea realizar. Con esto se busca tener cada archivo lo más prolijo y ordenado posible antes de hacer el merge final y luego el modelo."
   ],
   "metadata": {
    "collapsed": false,
    "pycharm": {
     "name": "#%% md\n"
    }
   }
  },
  {
   "cell_type": "markdown",
   "source": [
    "#### TITLES"
   ],
   "metadata": {
    "collapsed": false,
    "pycharm": {
     "name": "#%% md\n"
    }
   }
  },
  {
   "cell_type": "code",
   "execution_count": 6,
   "outputs": [
    {
     "data": {
      "text/plain": "      tconst titleType                                 primaryTitle  \\\n0  tt0000001     short                                   Carmencita   \n1  tt0000002     short                       Le clown et ses chiens   \n2  tt0000003     short                               Pauvre Pierrot   \n3  tt0000004     short                                  Un bon bock   \n4  tt0000005     short                             Blacksmith Scene   \n5  tt0000006     short                            Chinese Opium Den   \n6  tt0000007     short  Corbett and Courtney Before the Kinetograph   \n7  tt0000008     short       Edison Kinetoscopic Record of a Sneeze   \n8  tt0000009     movie                                   Miss Jerry   \n9  tt0000010     short                          Leaving the Factory   \n\n                                 originalTitle isAdult startYear endYear  \\\n0                                   Carmencita       0      1894      \\N   \n1                       Le clown et ses chiens       0      1892      \\N   \n2                               Pauvre Pierrot       0      1892      \\N   \n3                                  Un bon bock       0      1892      \\N   \n4                             Blacksmith Scene       0      1893      \\N   \n5                            Chinese Opium Den       0      1894      \\N   \n6  Corbett and Courtney Before the Kinetograph       0      1894      \\N   \n7       Edison Kinetoscopic Record of a Sneeze       0      1894      \\N   \n8                                   Miss Jerry       0      1894      \\N   \n9          La sortie de l'usine Lumière à Lyon       0      1895      \\N   \n\n  runtimeMinutes                    genres  \n0              1         Documentary,Short  \n1              5           Animation,Short  \n2              4  Animation,Comedy,Romance  \n3             12           Animation,Short  \n4              1              Comedy,Short  \n5              1                     Short  \n6              1               Short,Sport  \n7              1         Documentary,Short  \n8             45                   Romance  \n9              1         Documentary,Short  ",
      "text/html": "<div>\n<style scoped>\n    .dataframe tbody tr th:only-of-type {\n        vertical-align: middle;\n    }\n\n    .dataframe tbody tr th {\n        vertical-align: top;\n    }\n\n    .dataframe thead th {\n        text-align: right;\n    }\n</style>\n<table border=\"1\" class=\"dataframe\">\n  <thead>\n    <tr style=\"text-align: right;\">\n      <th></th>\n      <th>tconst</th>\n      <th>titleType</th>\n      <th>primaryTitle</th>\n      <th>originalTitle</th>\n      <th>isAdult</th>\n      <th>startYear</th>\n      <th>endYear</th>\n      <th>runtimeMinutes</th>\n      <th>genres</th>\n    </tr>\n  </thead>\n  <tbody>\n    <tr>\n      <th>0</th>\n      <td>tt0000001</td>\n      <td>short</td>\n      <td>Carmencita</td>\n      <td>Carmencita</td>\n      <td>0</td>\n      <td>1894</td>\n      <td>\\N</td>\n      <td>1</td>\n      <td>Documentary,Short</td>\n    </tr>\n    <tr>\n      <th>1</th>\n      <td>tt0000002</td>\n      <td>short</td>\n      <td>Le clown et ses chiens</td>\n      <td>Le clown et ses chiens</td>\n      <td>0</td>\n      <td>1892</td>\n      <td>\\N</td>\n      <td>5</td>\n      <td>Animation,Short</td>\n    </tr>\n    <tr>\n      <th>2</th>\n      <td>tt0000003</td>\n      <td>short</td>\n      <td>Pauvre Pierrot</td>\n      <td>Pauvre Pierrot</td>\n      <td>0</td>\n      <td>1892</td>\n      <td>\\N</td>\n      <td>4</td>\n      <td>Animation,Comedy,Romance</td>\n    </tr>\n    <tr>\n      <th>3</th>\n      <td>tt0000004</td>\n      <td>short</td>\n      <td>Un bon bock</td>\n      <td>Un bon bock</td>\n      <td>0</td>\n      <td>1892</td>\n      <td>\\N</td>\n      <td>12</td>\n      <td>Animation,Short</td>\n    </tr>\n    <tr>\n      <th>4</th>\n      <td>tt0000005</td>\n      <td>short</td>\n      <td>Blacksmith Scene</td>\n      <td>Blacksmith Scene</td>\n      <td>0</td>\n      <td>1893</td>\n      <td>\\N</td>\n      <td>1</td>\n      <td>Comedy,Short</td>\n    </tr>\n    <tr>\n      <th>5</th>\n      <td>tt0000006</td>\n      <td>short</td>\n      <td>Chinese Opium Den</td>\n      <td>Chinese Opium Den</td>\n      <td>0</td>\n      <td>1894</td>\n      <td>\\N</td>\n      <td>1</td>\n      <td>Short</td>\n    </tr>\n    <tr>\n      <th>6</th>\n      <td>tt0000007</td>\n      <td>short</td>\n      <td>Corbett and Courtney Before the Kinetograph</td>\n      <td>Corbett and Courtney Before the Kinetograph</td>\n      <td>0</td>\n      <td>1894</td>\n      <td>\\N</td>\n      <td>1</td>\n      <td>Short,Sport</td>\n    </tr>\n    <tr>\n      <th>7</th>\n      <td>tt0000008</td>\n      <td>short</td>\n      <td>Edison Kinetoscopic Record of a Sneeze</td>\n      <td>Edison Kinetoscopic Record of a Sneeze</td>\n      <td>0</td>\n      <td>1894</td>\n      <td>\\N</td>\n      <td>1</td>\n      <td>Documentary,Short</td>\n    </tr>\n    <tr>\n      <th>8</th>\n      <td>tt0000009</td>\n      <td>movie</td>\n      <td>Miss Jerry</td>\n      <td>Miss Jerry</td>\n      <td>0</td>\n      <td>1894</td>\n      <td>\\N</td>\n      <td>45</td>\n      <td>Romance</td>\n    </tr>\n    <tr>\n      <th>9</th>\n      <td>tt0000010</td>\n      <td>short</td>\n      <td>Leaving the Factory</td>\n      <td>La sortie de l'usine Lumière à Lyon</td>\n      <td>0</td>\n      <td>1895</td>\n      <td>\\N</td>\n      <td>1</td>\n      <td>Documentary,Short</td>\n    </tr>\n  </tbody>\n</table>\n</div>"
     },
     "execution_count": 6,
     "metadata": {},
     "output_type": "execute_result"
    }
   ],
   "source": [
    "titles.head(10)"
   ],
   "metadata": {
    "collapsed": false,
    "pycharm": {
     "name": "#%%\n"
    }
   }
  },
  {
   "cell_type": "code",
   "execution_count": 7,
   "outputs": [
    {
     "name": "stdout",
     "output_type": "stream",
     "text": [
      "El dataset TITLES tiene en principio 9369947 filas y 9 columnas. Con la información presentada en los siguientes formatos: \n",
      " tconst            object\n",
      "titleType         object\n",
      "primaryTitle      object\n",
      "originalTitle     object\n",
      "isAdult           object\n",
      "startYear         object\n",
      "endYear           object\n",
      "runtimeMinutes    object\n",
      "genres            object\n",
      "dtype: object\n"
     ]
    }
   ],
   "source": [
    "print(f\"El dataset TITLES tiene en principio {titles.shape[0]} filas y {titles.shape[1]} columnas. Con la información presentada en los siguientes formatos: \\n {titles.dtypes}\")"
   ],
   "metadata": {
    "collapsed": false,
    "pycharm": {
     "name": "#%%\n"
    }
   }
  },
  {
   "cell_type": "code",
   "execution_count": 8,
   "outputs": [
    {
     "name": "stdout",
     "output_type": "stream",
     "text": [
      "Hay 0 filas duplicadas\n"
     ]
    }
   ],
   "source": [
    "print(f\"Hay {titles.duplicated().sum()} filas duplicadas\")"
   ],
   "metadata": {
    "collapsed": false,
    "pycharm": {
     "name": "#%%\n"
    }
   }
  },
  {
   "cell_type": "code",
   "execution_count": 9,
   "outputs": [
    {
     "name": "stdout",
     "output_type": "stream",
     "text": [
      "La cantidad de nulos por columna es: \n",
      " tconst             0\n",
      "titleType          0\n",
      "primaryTitle      11\n",
      "originalTitle     11\n",
      "isAdult            0\n",
      "startYear          0\n",
      "endYear            0\n",
      "runtimeMinutes     0\n",
      "genres            10\n",
      "dtype: int64\n"
     ]
    }
   ],
   "source": [
    "print(f\"La cantidad de nulos por columna es: \\n {titles.isnull().sum()}\")"
   ],
   "metadata": {
    "collapsed": false,
    "pycharm": {
     "name": "#%%\n"
    }
   }
  },
  {
   "cell_type": "markdown",
   "source": [
    "Antes de seleccionar las columnas que serán de utilidad para el resto del trabajo, se eliminaran las filas con campos nulos ya que no representan siquiera el 1% de la información del dataset."
   ],
   "metadata": {
    "collapsed": false,
    "pycharm": {
     "name": "#%% md\n"
    }
   }
  },
  {
   "cell_type": "code",
   "execution_count": 10,
   "outputs": [],
   "source": [
    "titles.dropna(inplace = True)"
   ],
   "metadata": {
    "collapsed": false,
    "pycharm": {
     "name": "#%%\n"
    }
   }
  },
  {
   "cell_type": "markdown",
   "source": [
    "Para lo que se pretende analizar, las variables relevantes en title son:\n",
    "- tconst\n",
    "- titleType\n",
    "- primaryTitle\n",
    "- startYear\n",
    "- genres\n",
    "\n",
    "Por ello haré una copia del mismo con estos campos para utilizar en el merge."
   ],
   "metadata": {
    "collapsed": false,
    "pycharm": {
     "name": "#%% md\n"
    }
   }
  },
  {
   "cell_type": "code",
   "execution_count": 11,
   "outputs": [],
   "source": [
    "titles_para_merge = titles[[\"tconst\", \"titleType\", \"primaryTitle\", \"startYear\", \"genres\"]]"
   ],
   "metadata": {
    "collapsed": false,
    "pycharm": {
     "name": "#%%\n"
    }
   }
  },
  {
   "cell_type": "markdown",
   "source": [
    "### RATINGS"
   ],
   "metadata": {
    "collapsed": false,
    "pycharm": {
     "name": "#%% md\n"
    }
   }
  },
  {
   "cell_type": "code",
   "execution_count": 12,
   "outputs": [
    {
     "data": {
      "text/plain": "      tconst  averageRating  numVotes\n0  tt0000001            5.7      1924\n1  tt0000002            5.8       260\n2  tt0000003            6.5      1737\n3  tt0000004            5.6       175\n4  tt0000005            6.2      2551",
      "text/html": "<div>\n<style scoped>\n    .dataframe tbody tr th:only-of-type {\n        vertical-align: middle;\n    }\n\n    .dataframe tbody tr th {\n        vertical-align: top;\n    }\n\n    .dataframe thead th {\n        text-align: right;\n    }\n</style>\n<table border=\"1\" class=\"dataframe\">\n  <thead>\n    <tr style=\"text-align: right;\">\n      <th></th>\n      <th>tconst</th>\n      <th>averageRating</th>\n      <th>numVotes</th>\n    </tr>\n  </thead>\n  <tbody>\n    <tr>\n      <th>0</th>\n      <td>tt0000001</td>\n      <td>5.7</td>\n      <td>1924</td>\n    </tr>\n    <tr>\n      <th>1</th>\n      <td>tt0000002</td>\n      <td>5.8</td>\n      <td>260</td>\n    </tr>\n    <tr>\n      <th>2</th>\n      <td>tt0000003</td>\n      <td>6.5</td>\n      <td>1737</td>\n    </tr>\n    <tr>\n      <th>3</th>\n      <td>tt0000004</td>\n      <td>5.6</td>\n      <td>175</td>\n    </tr>\n    <tr>\n      <th>4</th>\n      <td>tt0000005</td>\n      <td>6.2</td>\n      <td>2551</td>\n    </tr>\n  </tbody>\n</table>\n</div>"
     },
     "execution_count": 12,
     "metadata": {},
     "output_type": "execute_result"
    }
   ],
   "source": [
    "ratings.head()"
   ],
   "metadata": {
    "collapsed": false,
    "pycharm": {
     "name": "#%%\n"
    }
   }
  },
  {
   "cell_type": "code",
   "execution_count": 13,
   "outputs": [
    {
     "name": "stdout",
     "output_type": "stream",
     "text": [
      "El dataset RATINGS tiene en principio 1253128 filas y 3 columnas. Con la información presentada en los siguientes formatos: \n",
      " tconst            object\n",
      "averageRating    float64\n",
      "numVotes           int64\n",
      "dtype: object\n"
     ]
    }
   ],
   "source": [
    "print(f\"El dataset RATINGS tiene en principio {ratings.shape[0]} filas y {ratings.shape[1]} columnas. Con la información presentada en los siguientes formatos: \\n {ratings.dtypes}\")"
   ],
   "metadata": {
    "collapsed": false,
    "pycharm": {
     "name": "#%%\n"
    }
   }
  },
  {
   "cell_type": "code",
   "execution_count": 14,
   "outputs": [
    {
     "name": "stdout",
     "output_type": "stream",
     "text": [
      "La cantidad de nulos por columna es: \n",
      " tconst           0\n",
      "averageRating    0\n",
      "numVotes         0\n",
      "dtype: int64\n"
     ]
    }
   ],
   "source": [
    "print(f\"La cantidad de nulos por columna es: \\n {ratings.isna().sum()}\")"
   ],
   "metadata": {
    "collapsed": false,
    "pycharm": {
     "name": "#%%\n"
    }
   }
  },
  {
   "cell_type": "code",
   "execution_count": 15,
   "outputs": [
    {
     "name": "stdout",
     "output_type": "stream",
     "text": [
      "Hay 0 filas duplicadas\n"
     ]
    }
   ],
   "source": [
    "print(f\"Hay {ratings.duplicated().sum()} filas duplicadas\")"
   ],
   "metadata": {
    "collapsed": false,
    "pycharm": {
     "name": "#%%\n"
    }
   }
  },
  {
   "cell_type": "code",
   "execution_count": 16,
   "outputs": [
    {
     "data": {
      "text/plain": "count    1253128.00\nmean           6.95\nstd            1.39\nmin            1.00\n25%            6.20\n50%            7.10\n75%            7.90\nmax           10.00\nName: averageRating, dtype: float64"
     },
     "execution_count": 16,
     "metadata": {},
     "output_type": "execute_result"
    }
   ],
   "source": [
    "round(ratings.averageRating.describe(),2)"
   ],
   "metadata": {
    "collapsed": false,
    "pycharm": {
     "name": "#%%\n"
    }
   }
  },
  {
   "cell_type": "markdown",
   "source": [
    "El puntaje promedio del contenido analizado es de 6.95/10 puntos.\n",
    "Para el modelado posterior se dejarán en principio todos los campos de este dataset."
   ],
   "metadata": {
    "collapsed": false,
    "pycharm": {
     "name": "#%% md\n"
    }
   }
  },
  {
   "cell_type": "markdown",
   "source": [
    "\n",
    "### SHOWS"
   ],
   "metadata": {
    "collapsed": false,
    "pycharm": {
     "name": "#%% md\n"
    }
   }
  },
  {
   "cell_type": "code",
   "execution_count": 17,
   "outputs": [
    {
     "data": {
      "text/plain": "   ID             Title  Year  Age  IMDb  Rotten Tomatoes  Netflix  Hulu  \\\n0   1      Breaking Bad  2008   18   9.4             10.0        1     0   \n1   2   Stranger Things  2016   16   8.7              9.6        1     0   \n2   3   Attack on Titan  2013   18   9.0              9.5        1     1   \n3   4  Better Call Saul  2015   18   8.8              9.4        1     0   \n4   5              Dark  2017   16   8.8              9.3        1     0   \n\n   Prime Video  Disney+        Target  Diferencia de puntuacion  \\\n0            0        0       Adultos                      -0.6   \n1            0        0  Adolescentes                      -0.9   \n2            0        0       Adultos                      -0.5   \n3            0        0       Adultos                      -0.6   \n4            0        0  Adolescentes                      -0.5   \n\n  Mejor puntuacion  \n0  Rotten Tomatoes  \n1  Rotten Tomatoes  \n2  Rotten Tomatoes  \n3  Rotten Tomatoes  \n4  Rotten Tomatoes  ",
      "text/html": "<div>\n<style scoped>\n    .dataframe tbody tr th:only-of-type {\n        vertical-align: middle;\n    }\n\n    .dataframe tbody tr th {\n        vertical-align: top;\n    }\n\n    .dataframe thead th {\n        text-align: right;\n    }\n</style>\n<table border=\"1\" class=\"dataframe\">\n  <thead>\n    <tr style=\"text-align: right;\">\n      <th></th>\n      <th>ID</th>\n      <th>Title</th>\n      <th>Year</th>\n      <th>Age</th>\n      <th>IMDb</th>\n      <th>Rotten Tomatoes</th>\n      <th>Netflix</th>\n      <th>Hulu</th>\n      <th>Prime Video</th>\n      <th>Disney+</th>\n      <th>Target</th>\n      <th>Diferencia de puntuacion</th>\n      <th>Mejor puntuacion</th>\n    </tr>\n  </thead>\n  <tbody>\n    <tr>\n      <th>0</th>\n      <td>1</td>\n      <td>Breaking Bad</td>\n      <td>2008</td>\n      <td>18</td>\n      <td>9.4</td>\n      <td>10.0</td>\n      <td>1</td>\n      <td>0</td>\n      <td>0</td>\n      <td>0</td>\n      <td>Adultos</td>\n      <td>-0.6</td>\n      <td>Rotten Tomatoes</td>\n    </tr>\n    <tr>\n      <th>1</th>\n      <td>2</td>\n      <td>Stranger Things</td>\n      <td>2016</td>\n      <td>16</td>\n      <td>8.7</td>\n      <td>9.6</td>\n      <td>1</td>\n      <td>0</td>\n      <td>0</td>\n      <td>0</td>\n      <td>Adolescentes</td>\n      <td>-0.9</td>\n      <td>Rotten Tomatoes</td>\n    </tr>\n    <tr>\n      <th>2</th>\n      <td>3</td>\n      <td>Attack on Titan</td>\n      <td>2013</td>\n      <td>18</td>\n      <td>9.0</td>\n      <td>9.5</td>\n      <td>1</td>\n      <td>1</td>\n      <td>0</td>\n      <td>0</td>\n      <td>Adultos</td>\n      <td>-0.5</td>\n      <td>Rotten Tomatoes</td>\n    </tr>\n    <tr>\n      <th>3</th>\n      <td>4</td>\n      <td>Better Call Saul</td>\n      <td>2015</td>\n      <td>18</td>\n      <td>8.8</td>\n      <td>9.4</td>\n      <td>1</td>\n      <td>0</td>\n      <td>0</td>\n      <td>0</td>\n      <td>Adultos</td>\n      <td>-0.6</td>\n      <td>Rotten Tomatoes</td>\n    </tr>\n    <tr>\n      <th>4</th>\n      <td>5</td>\n      <td>Dark</td>\n      <td>2017</td>\n      <td>16</td>\n      <td>8.8</td>\n      <td>9.3</td>\n      <td>1</td>\n      <td>0</td>\n      <td>0</td>\n      <td>0</td>\n      <td>Adolescentes</td>\n      <td>-0.5</td>\n      <td>Rotten Tomatoes</td>\n    </tr>\n  </tbody>\n</table>\n</div>"
     },
     "execution_count": 17,
     "metadata": {},
     "output_type": "execute_result"
    }
   ],
   "source": [
    "shows.head()"
   ],
   "metadata": {
    "collapsed": false,
    "pycharm": {
     "name": "#%%\n"
    }
   }
  },
  {
   "cell_type": "code",
   "execution_count": 18,
   "outputs": [
    {
     "name": "stdout",
     "output_type": "stream",
     "text": [
      "El dataset SHOWS tiene en principio 4406 filas y 13 columnas. Con la información presentada en los siguientes formatos: \n",
      " ID                            int64\n",
      "Title                        object\n",
      "Year                          int64\n",
      "Age                           int64\n",
      "IMDb                        float64\n",
      "Rotten Tomatoes             float64\n",
      "Netflix                       int64\n",
      "Hulu                          int64\n",
      "Prime Video                   int64\n",
      "Disney+                       int64\n",
      "Target                       object\n",
      "Diferencia de puntuacion    float64\n",
      "Mejor puntuacion             object\n",
      "dtype: object\n"
     ]
    }
   ],
   "source": [
    "print(f\"El dataset SHOWS tiene en principio {shows.shape[0]} filas y {shows.shape[1]} columnas. Con la información presentada en los siguientes formatos: \\n {shows.dtypes}\")"
   ],
   "metadata": {
    "collapsed": false,
    "pycharm": {
     "name": "#%%\n"
    }
   }
  },
  {
   "cell_type": "markdown",
   "source": [
    "Al ser este el dataset al final de la primera entrega, el mimso no tiene nulos.\n",
    "Para el modelo que se quiere realizar, solo necesitaremos los siguientes campos:\n",
    "- title\n",
    "- netflix\n",
    "- hulu\n",
    "- prime video\n",
    "- disney +\n",
    "- target\n",
    "\n",
    "Los valores de imdb se obtendrán en principio de ratings, ya que los tsv de imdb tienen la información de las series desglosadas mientras que en shows está presente sólo una temporada por serie. También se dará por sentado que todas las temporadas de las series están en las plataformas que marca el archivo shows. En caso de que el campo de average rating esté incompleto, se utilizará el IMDb del dataset shows para generar una columna promedio entre ambas y que las valoraciones no queden desequilibradas."
   ],
   "metadata": {
    "collapsed": false,
    "pycharm": {
     "name": "#%% md\n"
    }
   }
  },
  {
   "cell_type": "markdown",
   "source": [
    "Como queremos predecir el target concreto del contenido, se eliminará el target indefinido. Recordemos que este target se creó en primera instancia para analizar la totalidad de los datos, hace referencia a las series cuya edad no estaba especificada en principio. Por eso, para este análisis se va a prescindir de la misma."
   ],
   "metadata": {
    "collapsed": false,
    "pycharm": {
     "name": "#%% md\n"
    }
   }
  },
  {
   "cell_type": "code",
   "execution_count": 19,
   "outputs": [],
   "source": [
    "filter = shows[\"Age\"] != -1\n",
    "shows_1 = shows[filter]\n"
   ],
   "metadata": {
    "collapsed": false,
    "pycharm": {
     "name": "#%%\n"
    }
   }
  },
  {
   "cell_type": "code",
   "execution_count": 20,
   "outputs": [],
   "source": [
    "shows_para_merge = shows_1[[\"Title\", \"Netflix\", \"Hulu\", \"Prime Video\", \"Disney+\", \"Target\", \"IMDb\"]]"
   ],
   "metadata": {
    "collapsed": false,
    "pycharm": {
     "name": "#%%\n"
    }
   }
  },
  {
   "cell_type": "markdown",
   "source": [
    "## Merge"
   ],
   "metadata": {
    "collapsed": false,
    "pycharm": {
     "name": "#%% md\n"
    }
   }
  },
  {
   "cell_type": "markdown",
   "source": [
    "Para modelar, primero se unirán los dataset que correspondan. En primer lugar, title con ratings y por último un left join entre shows y el primer merge entre los otros dos archivos. Se seguirá ese orden ya que los dataset titles y ratings presentan información de más cantidad de títulos que shows, por lo que si se unen al revés se generarán campos nulos que antes no estaban. Una vez realizados todos los merge necesarios, se hará la limpieza de datos necesaria para el modelado."
   ],
   "metadata": {
    "collapsed": false,
    "pycharm": {
     "name": "#%% md\n"
    }
   }
  },
  {
   "cell_type": "code",
   "execution_count": 21,
   "outputs": [],
   "source": [
    "title_ratings_merge = pd.merge(titles_para_merge, ratings, how='left', on= \"tconst\")"
   ],
   "metadata": {
    "collapsed": false,
    "pycharm": {
     "name": "#%%\n"
    }
   }
  },
  {
   "cell_type": "code",
   "execution_count": 22,
   "outputs": [],
   "source": [
    "shows_preliminar = pd.merge(shows_para_merge, title_ratings_merge, how = 'left', left_on=\"Title\", right_on=\"primaryTitle\")"
   ],
   "metadata": {
    "collapsed": false,
    "pycharm": {
     "name": "#%%\n"
    }
   }
  },
  {
   "cell_type": "markdown",
   "source": [
    "Para no trabajar con el merge final, los cambios se harán sobre una copia."
   ],
   "metadata": {
    "collapsed": false,
    "pycharm": {
     "name": "#%% md\n"
    }
   }
  },
  {
   "cell_type": "code",
   "execution_count": 23,
   "outputs": [],
   "source": [
    "shows_con_merge = shows_preliminar.copy()"
   ],
   "metadata": {
    "collapsed": false,
    "pycharm": {
     "name": "#%%\n"
    }
   }
  },
  {
   "cell_type": "markdown",
   "source": [
    "### Cambios Básicos y Nulos"
   ],
   "metadata": {
    "collapsed": false,
    "pycharm": {
     "name": "#%% md\n"
    }
   }
  },
  {
   "cell_type": "code",
   "execution_count": 24,
   "outputs": [],
   "source": [
    "shows_con_merge.replace( r\"\\N\", np.nan, inplace = True)"
   ],
   "metadata": {
    "collapsed": false,
    "pycharm": {
     "name": "#%%\n"
    }
   }
  },
  {
   "cell_type": "code",
   "execution_count": 25,
   "outputs": [
    {
     "data": {
      "text/plain": "          Title  Netflix  Hulu  Prime Video  Disney+   Target  IMDb  \\\n0  Breaking Bad        1     0            0        0  Adultos   9.4   \n1  Breaking Bad        1     0            0        0  Adultos   9.4   \n2  Breaking Bad        1     0            0        0  Adultos   9.4   \n3  Breaking Bad        1     0            0        0  Adultos   9.4   \n4  Breaking Bad        1     0            0        0  Adultos   9.4   \n\n       tconst  titleType  primaryTitle startYear                   genres  \\\n0   tt0903747   tvSeries  Breaking Bad      2008     Crime,Drama,Thriller   \n1  tt10044794  tvEpisode  Breaking Bad      2018                Game-Show   \n2  tt10975068  tvEpisode  Breaking Bad      2019                   Comedy   \n3  tt11962728  tvEpisode  Breaking Bad      2014               Reality-TV   \n4  tt12084802  tvEpisode  Breaking Bad      2013  Action,Adventure,Comedy   \n\n   averageRating   numVotes  \n0            9.5  1870263.0  \n1            NaN        NaN  \n2            7.8       24.0  \n3            NaN        NaN  \n4            NaN        NaN  ",
      "text/html": "<div>\n<style scoped>\n    .dataframe tbody tr th:only-of-type {\n        vertical-align: middle;\n    }\n\n    .dataframe tbody tr th {\n        vertical-align: top;\n    }\n\n    .dataframe thead th {\n        text-align: right;\n    }\n</style>\n<table border=\"1\" class=\"dataframe\">\n  <thead>\n    <tr style=\"text-align: right;\">\n      <th></th>\n      <th>Title</th>\n      <th>Netflix</th>\n      <th>Hulu</th>\n      <th>Prime Video</th>\n      <th>Disney+</th>\n      <th>Target</th>\n      <th>IMDb</th>\n      <th>tconst</th>\n      <th>titleType</th>\n      <th>primaryTitle</th>\n      <th>startYear</th>\n      <th>genres</th>\n      <th>averageRating</th>\n      <th>numVotes</th>\n    </tr>\n  </thead>\n  <tbody>\n    <tr>\n      <th>0</th>\n      <td>Breaking Bad</td>\n      <td>1</td>\n      <td>0</td>\n      <td>0</td>\n      <td>0</td>\n      <td>Adultos</td>\n      <td>9.4</td>\n      <td>tt0903747</td>\n      <td>tvSeries</td>\n      <td>Breaking Bad</td>\n      <td>2008</td>\n      <td>Crime,Drama,Thriller</td>\n      <td>9.5</td>\n      <td>1870263.0</td>\n    </tr>\n    <tr>\n      <th>1</th>\n      <td>Breaking Bad</td>\n      <td>1</td>\n      <td>0</td>\n      <td>0</td>\n      <td>0</td>\n      <td>Adultos</td>\n      <td>9.4</td>\n      <td>tt10044794</td>\n      <td>tvEpisode</td>\n      <td>Breaking Bad</td>\n      <td>2018</td>\n      <td>Game-Show</td>\n      <td>NaN</td>\n      <td>NaN</td>\n    </tr>\n    <tr>\n      <th>2</th>\n      <td>Breaking Bad</td>\n      <td>1</td>\n      <td>0</td>\n      <td>0</td>\n      <td>0</td>\n      <td>Adultos</td>\n      <td>9.4</td>\n      <td>tt10975068</td>\n      <td>tvEpisode</td>\n      <td>Breaking Bad</td>\n      <td>2019</td>\n      <td>Comedy</td>\n      <td>7.8</td>\n      <td>24.0</td>\n    </tr>\n    <tr>\n      <th>3</th>\n      <td>Breaking Bad</td>\n      <td>1</td>\n      <td>0</td>\n      <td>0</td>\n      <td>0</td>\n      <td>Adultos</td>\n      <td>9.4</td>\n      <td>tt11962728</td>\n      <td>tvEpisode</td>\n      <td>Breaking Bad</td>\n      <td>2014</td>\n      <td>Reality-TV</td>\n      <td>NaN</td>\n      <td>NaN</td>\n    </tr>\n    <tr>\n      <th>4</th>\n      <td>Breaking Bad</td>\n      <td>1</td>\n      <td>0</td>\n      <td>0</td>\n      <td>0</td>\n      <td>Adultos</td>\n      <td>9.4</td>\n      <td>tt12084802</td>\n      <td>tvEpisode</td>\n      <td>Breaking Bad</td>\n      <td>2013</td>\n      <td>Action,Adventure,Comedy</td>\n      <td>NaN</td>\n      <td>NaN</td>\n    </tr>\n  </tbody>\n</table>\n</div>"
     },
     "execution_count": 25,
     "metadata": {},
     "output_type": "execute_result"
    }
   ],
   "source": [
    "shows_con_merge.head()"
   ],
   "metadata": {
    "collapsed": false,
    "pycharm": {
     "name": "#%%\n"
    }
   }
  },
  {
   "cell_type": "markdown",
   "source": [
    "Se separará el target entre el contenido clasificado como apto para todo público y el que presenta alguna restricción., Considerando que estos últimos corresponden al conetenido orientado a adolescentes y adultos."
   ],
   "metadata": {
    "collapsed": false,
    "pycharm": {
     "name": "#%% md\n"
    }
   }
  },
  {
   "cell_type": "code",
   "execution_count": 26,
   "outputs": [],
   "source": [
    "def cambiar_target(target_actual):\n",
    "    if target_actual == \"Adultos\" or target_actual == \"Adolescentes\" :\n",
    "        return \"A\"\n",
    "    else:\n",
    "        return \"TP\""
   ],
   "metadata": {
    "collapsed": false,
    "pycharm": {
     "name": "#%%\n"
    }
   }
  },
  {
   "cell_type": "code",
   "execution_count": 27,
   "outputs": [],
   "source": [
    "shows_con_merge.loc[:, \"Target\"] = shows_con_merge[\"Target\"].apply(cambiar_target)"
   ],
   "metadata": {
    "collapsed": false,
    "pycharm": {
     "name": "#%%\n"
    }
   }
  },
  {
   "cell_type": "markdown",
   "source": [
    "Para mejorar la facilidad de interpretación de la información que brinda cada columna, se cambiarán algunos nombres."
   ],
   "metadata": {
    "collapsed": false,
    "pycharm": {
     "name": "#%% md\n"
    }
   }
  },
  {
   "cell_type": "code",
   "execution_count": 28,
   "outputs": [],
   "source": [
    "shows_con_merge.rename(columns={'tconst': 'ID', 'titleType': 'Content_Class',  'numVotes':'Votes', \"averageRating\": \"IMDb2\", 'startYear':'Released_Year', \"genres\": \"Genres\", \"Prime Video\": \"prime_video\", \"Disney+\": \"disney\"}, inplace=True)"
   ],
   "metadata": {
    "collapsed": false,
    "pycharm": {
     "name": "#%%\n"
    }
   }
  },
  {
   "cell_type": "code",
   "execution_count": 29,
   "outputs": [
    {
     "name": "stdout",
     "output_type": "stream",
     "text": [
      "<class 'pandas.core.frame.DataFrame'>\n",
      "Int64Index: 33545 entries, 0 to 33544\n",
      "Data columns (total 14 columns):\n",
      " #   Column         Non-Null Count  Dtype  \n",
      "---  ------         --------------  -----  \n",
      " 0   Title          33545 non-null  object \n",
      " 1   Netflix        33545 non-null  int64  \n",
      " 2   Hulu           33545 non-null  int64  \n",
      " 3   prime_video    33545 non-null  int64  \n",
      " 4   disney         33545 non-null  int64  \n",
      " 5   Target         33545 non-null  object \n",
      " 6   IMDb           33545 non-null  float64\n",
      " 7   ID             33218 non-null  object \n",
      " 8   Content_Class  33218 non-null  object \n",
      " 9   primaryTitle   33218 non-null  object \n",
      " 10  Released_Year  31193 non-null  object \n",
      " 11  Genres         32552 non-null  object \n",
      " 12  IMDb2          12686 non-null  float64\n",
      " 13  Votes          12686 non-null  float64\n",
      "dtypes: float64(3), int64(4), object(7)\n",
      "memory usage: 3.8+ MB\n",
      " La informacioón preliminar del dataset shows con merge es que tiene: 33545 filas y 14 columnas. \n",
      " None\n"
     ]
    }
   ],
   "source": [
    "print(f' La informacioón preliminar del dataset shows con merge es que tiene: {shows_con_merge.shape[0]} filas y {shows_con_merge.shape[1]} columnas. \\n {shows_con_merge.info()}')"
   ],
   "metadata": {
    "collapsed": false,
    "pycharm": {
     "name": "#%%\n"
    }
   }
  },
  {
   "cell_type": "code",
   "execution_count": 30,
   "outputs": [
    {
     "name": "stdout",
     "output_type": "stream",
     "text": [
      " La cantidad de títulos únicos es: 33218. Lo que significa que el 0.97% de los mismos están repetidos por ser series con más de una temporada o tener un análisis de capítulos específicos.\n"
     ]
    }
   ],
   "source": [
    "print(f\" La cantidad de títulos únicos es: {shows_con_merge.ID.nunique()}. Lo que significa que el {round(100-(shows_con_merge.ID.nunique()/len(shows_con_merge))*100,2)}% de los mismos están repetidos por ser series con más de una temporada o tener un análisis de capítulos específicos.\")"
   ],
   "metadata": {
    "collapsed": false,
    "pycharm": {
     "name": "#%%\n"
    }
   }
  },
  {
   "cell_type": "markdown",
   "source": [
    "Al haber IDs repetidos, se pasará a eliminarlos duplicados, dejando sólo los primeros resultados. Esto se hace con la finalidad de tener un mejor orden y evitar futuros problemas de análisis."
   ],
   "metadata": {
    "collapsed": false,
    "pycharm": {
     "name": "#%% md\n"
    }
   }
  },
  {
   "cell_type": "code",
   "execution_count": 31,
   "outputs": [],
   "source": [
    "shows_con_merge= shows_con_merge.drop_duplicates(subset= \"ID\",keep = \"first\").reset_index(drop = True)"
   ],
   "metadata": {
    "collapsed": false,
    "pycharm": {
     "name": "#%%\n"
    }
   }
  },
  {
   "cell_type": "markdown",
   "source": [
    "Se eliminará la columna primary title que ya cumplió su función al permitir el merge. Y la columna numVotes ya que la cantidad de votos no garantiza un buen o mal puntaje en los títulos."
   ],
   "metadata": {
    "collapsed": false,
    "pycharm": {
     "name": "#%% md\n"
    }
   }
  },
  {
   "cell_type": "code",
   "execution_count": 32,
   "outputs": [],
   "source": [
    "shows_con_merge.drop([\"primaryTitle\",\"Votes\"], axis = 1, inplace = True)"
   ],
   "metadata": {
    "collapsed": false,
    "pycharm": {
     "name": "#%%\n"
    }
   }
  },
  {
   "cell_type": "markdown",
   "source": [
    "### NULOS\n",
    "¿Qué filas presentan nulos y cuál es su proporción sobre el total del dataset?"
   ],
   "metadata": {
    "collapsed": false,
    "pycharm": {
     "name": "#%% md\n"
    }
   }
  },
  {
   "cell_type": "code",
   "execution_count": 33,
   "outputs": [
    {
     "name": "stdout",
     "output_type": "stream",
     "text": [
      "Shows_con_merge presenta el siguiente porcentaje de nulos por columna: \n",
      " IMDb2            0.62\n",
      "Released_Year    0.06\n",
      "Genres           0.02\n",
      "ID               0.00\n",
      "Content_Class    0.00\n",
      "Title            0.00\n",
      "Netflix          0.00\n",
      "Hulu             0.00\n",
      "prime_video      0.00\n",
      "disney           0.00\n",
      "Target           0.00\n",
      "IMDb             0.00\n",
      "dtype: float64\n"
     ]
    }
   ],
   "source": [
    "print(f'Shows_con_merge presenta el siguiente porcentaje de nulos por columna: \\n {round(shows_con_merge.isnull().sum().sort_values(ascending=False)/len(shows_con_merge),2)}')"
   ],
   "metadata": {
    "collapsed": false,
    "pycharm": {
     "name": "#%%\n"
    }
   }
  },
  {
   "cell_type": "markdown",
   "source": [
    "Pasaremos a eliminar las filas con nans en año de lanzamiento y género."
   ],
   "metadata": {
    "collapsed": false,
    "pycharm": {
     "name": "#%% md\n"
    }
   }
  },
  {
   "cell_type": "code",
   "execution_count": 34,
   "outputs": [],
   "source": [
    "shows_con_merge.dropna(subset= [\"Released_Year\", \"Genres\"], inplace = True)"
   ],
   "metadata": {
    "collapsed": false,
    "pycharm": {
     "name": "#%%\n"
    }
   }
  },
  {
   "cell_type": "markdown",
   "source": [
    "Como el 62% de los shows no tienen un puntaje IMDb del dataset ratings, se hará una columna promedio entre el IMDb del dataset shows y el de ratings. De esta forma, se busca evitar que los puntajes queden desparejo, puesto que el puntaje medio de cada uno varía."
   ],
   "metadata": {
    "collapsed": false,
    "pycharm": {
     "name": "#%% md\n"
    }
   }
  },
  {
   "cell_type": "code",
   "execution_count": 35,
   "outputs": [],
   "source": [
    "shows_con_merge.loc[:,'IMDb3']= shows_con_merge[[\"IMDb\", \"IMDb2\"]].mean(axis = 1)"
   ],
   "metadata": {
    "collapsed": false,
    "pycharm": {
     "name": "#%%\n"
    }
   }
  },
  {
   "cell_type": "code",
   "execution_count": 36,
   "outputs": [
    {
     "data": {
      "text/plain": "0"
     },
     "execution_count": 36,
     "metadata": {},
     "output_type": "execute_result"
    }
   ],
   "source": [
    "shows_con_merge.IMDb3.isnull().sum()"
   ],
   "metadata": {
    "collapsed": false,
    "pycharm": {
     "name": "#%%\n"
    }
   }
  },
  {
   "cell_type": "markdown",
   "source": [
    "Ahora que ya tenemos los puntajes IMDb3 completos, se eliminará la columna IMDb e IMDb2."
   ],
   "metadata": {
    "collapsed": false,
    "pycharm": {
     "name": "#%% md\n"
    }
   }
  },
  {
   "cell_type": "code",
   "execution_count": 37,
   "outputs": [],
   "source": [
    "shows_con_merge.drop(columns=[\"IMDb\",\"IMDb2\"], axis =1, inplace = True)"
   ],
   "metadata": {
    "collapsed": false,
    "pycharm": {
     "name": "#%%\n"
    }
   }
  },
  {
   "cell_type": "code",
   "execution_count": 38,
   "outputs": [
    {
     "data": {
      "text/plain": "Title            0\nNetflix          0\nHulu             0\nprime_video      0\ndisney           0\nTarget           0\nID               0\nContent_Class    0\nReleased_Year    0\nGenres           0\nIMDb3            0\ndtype: int64"
     },
     "execution_count": 38,
     "metadata": {},
     "output_type": "execute_result"
    }
   ],
   "source": [
    "shows_con_merge.isnull().sum()"
   ],
   "metadata": {
    "collapsed": false,
    "pycharm": {
     "name": "#%%\n"
    }
   }
  },
  {
   "cell_type": "markdown",
   "source": [
    "## Transformación datos"
   ],
   "metadata": {
    "collapsed": false,
    "pycharm": {
     "name": "#%% md\n"
    }
   }
  },
  {
   "cell_type": "code",
   "execution_count": 39,
   "outputs": [
    {
     "name": "stdout",
     "output_type": "stream",
     "text": [
      " Como existen 925 categorías de género, se realizará un cambio para que las mismas queden más agrupadas. Previamente se mencionó que esta columna presenta los top 3 géneros del título. En lugar de dejar 3 géneros como lista, se tomará al primer género de la misma como el más representativo entre los que sean.\n"
     ]
    }
   ],
   "source": [
    "print(f' Como existen {shows_con_merge.Genres.nunique()} categorías de género, se realizará un cambio para que las mismas queden más agrupadas. Previamente se mencionó que esta columna presenta los top 3 géneros del título. En lugar de dejar 3 géneros como lista, se tomará al primer género de la misma como el más representativo entre los que sean.')"
   ],
   "metadata": {
    "collapsed": false,
    "pycharm": {
     "name": "#%%\n"
    }
   }
  },
  {
   "cell_type": "code",
   "execution_count": 40,
   "outputs": [],
   "source": [
    "def unificar_genre(dataframe):\n",
    "    change_function = (lambda x: (x.split(',')[0]))#para quedarme con el primer valor\n",
    "    dataframe.loc[:, \"Genres\"] = dataframe[\"Genres\"].apply(change_function)\n",
    "    return dataframe"
   ],
   "metadata": {
    "collapsed": false,
    "pycharm": {
     "name": "#%%\n"
    }
   }
  },
  {
   "cell_type": "code",
   "execution_count": 41,
   "outputs": [],
   "source": [
    "shows_con_merge = unificar_genre(shows_con_merge)"
   ],
   "metadata": {
    "collapsed": false,
    "pycharm": {
     "name": "#%%\n"
    }
   }
  },
  {
   "cell_type": "code",
   "execution_count": 42,
   "outputs": [
    {
     "name": "stdout",
     "output_type": "stream",
     "text": [
      " Ahora hay solo 27 categorías.\n"
     ]
    }
   ],
   "source": [
    "print(f' Ahora hay solo {shows_con_merge.Genres.nunique()} categorías.')"
   ],
   "metadata": {
    "collapsed": false,
    "pycharm": {
     "name": "#%%\n"
    }
   }
  },
  {
   "cell_type": "markdown",
   "source": [
    "El type de Released Year era object por lo que se cambiará a int, de esta forma se podrá utilizar como variable independiente en el modelado del IMDb."
   ],
   "metadata": {
    "collapsed": false,
    "pycharm": {
     "name": "#%% md\n"
    }
   }
  },
  {
   "cell_type": "code",
   "execution_count": 43,
   "outputs": [],
   "source": [
    "shows_con_merge.loc[:,\"Released_Year\"] = shows_con_merge[\"Released_Year\"].astype(\"int\")"
   ],
   "metadata": {
    "collapsed": false,
    "pycharm": {
     "name": "#%%\n"
    }
   }
  },
  {
   "cell_type": "markdown",
   "source": [
    "## Análisis de Variables y filtros"
   ],
   "metadata": {
    "collapsed": false,
    "pycharm": {
     "name": "#%% md\n"
    }
   }
  },
  {
   "cell_type": "markdown",
   "source": [
    "#### Released Year"
   ],
   "metadata": {
    "collapsed": false,
    "pycharm": {
     "name": "#%% md\n"
    }
   }
  },
  {
   "cell_type": "code",
   "execution_count": 44,
   "outputs": [
    {
     "data": {
      "text/plain": "<Figure size 432x288 with 1 Axes>",
      "image/png": "[encoded data removed]"
     },
     "metadata": {
      "needs_background": "light"
     },
     "output_type": "display_data"
    }
   ],
   "source": [
    "shows_por_anio = shows_con_merge.groupby('Released_Year').agg(\n",
    "    cantidad_de_shows =  ('ID', 'nunique'))\n",
    "shows_por_anio.plot()\n",
    "plt.show()"
   ],
   "metadata": {
    "collapsed": false,
    "pycharm": {
     "name": "#%%\n"
    }
   }
  },
  {
   "cell_type": "code",
   "execution_count": 45,
   "outputs": [
    {
     "data": {
      "text/plain": "<Figure size 936x360 with 1 Axes>",
      "image/png": "[encoded data removed]"
     },
     "metadata": {
      "needs_background": "light"
     },
     "output_type": "display_data"
    }
   ],
   "source": [
    "fig, ax1 = plt.subplots( figsize = (13, 5))\n",
    "sns.boxplot(x= \"Released_Year\", data=shows_con_merge, ax = ax1)\n",
    "ax1.set_xlabel('Años', fontsize=10)\n",
    "ax1.set_title('Boxplot Distribución de Años', fontsize=10)\n",
    "ax1.tick_params(labelsize=10)"
   ],
   "metadata": {
    "collapsed": false,
    "pycharm": {
     "name": "#%%\n"
    }
   }
  },
  {
   "cell_type": "code",
   "execution_count": 46,
   "outputs": [
    {
     "name": "stdout",
     "output_type": "stream",
     "text": [
      "La distribución de los años es:\n",
      "1º Cuartil:  2005.0\n",
      "2º Cuartil:  2013.0\n",
      "3º Cuartil:  2018.0\n",
      "4º Cuartil:  2027.0\n",
      "Los lanzamientos previos al año:  1986 pueden tomarse como outliers. Por encontrarse muy alejados de la media del contenido bajo análisis.\n"
     ]
    }
   ],
   "source": [
    "print(\"La distribución de los años es:\")\n",
    "print('1º Cuartil: ', shows_con_merge[\"Released_Year\"].quantile(q = 0.25))\n",
    "print('2º Cuartil: ', shows_con_merge[\"Released_Year\"].quantile(q = 0.50))\n",
    "print('3º Cuartil: ', shows_con_merge[\"Released_Year\"].quantile(q = 0.75))\n",
    "print('4º Cuartil: ', shows_con_merge[\"Released_Year\"].quantile(q = 1.00))\n",
    "print('Los lanzamientos previos al año: ', round(shows_con_merge[\"Released_Year\"].quantile(q = 0.25) -\n",
    "                      1.5*(shows_con_merge[\"Released_Year\"].quantile(q = 0.75) - shows_con_merge[\"Released_Year\"].quantile(q = 0.25))), 'pueden tomarse como outliers. Por encontrarse muy alejados de la media del contenido bajo análisis.')\n"
   ],
   "metadata": {
    "collapsed": false,
    "pycharm": {
     "name": "#%%\n"
    }
   }
  },
  {
   "cell_type": "markdown",
   "source": [
    "Para que la cantidad de outliers no sea tan extensa, se filtrarán aquellos cuya fecha de lanzamiento haya quedado muy desactualizada, es decir, los que se encuentren por debajo del límite inferior."
   ],
   "metadata": {
    "collapsed": false,
    "pycharm": {
     "name": "#%% md\n"
    }
   }
  },
  {
   "cell_type": "markdown",
   "source": [],
   "metadata": {
    "collapsed": false,
    "pycharm": {
     "name": "#%% md\n"
    }
   }
  },
  {
   "cell_type": "code",
   "execution_count": 47,
   "outputs": [
    {
     "data": {
      "text/plain": "(27736, 11)"
     },
     "execution_count": 47,
     "metadata": {},
     "output_type": "execute_result"
    }
   ],
   "source": [
    "filter = shows_con_merge.Released_Year > round(shows_con_merge[\"Released_Year\"].quantile(q = 0.25) -\n",
    "                      1.5*(shows_con_merge[\"Released_Year\"].quantile(q = 0.75) - shows_con_merge[\"Released_Year\"].quantile(q = 0.25)))\n",
    "shows_filtrado = shows_con_merge[filter]\n",
    "shows_filtrado.shape"
   ],
   "metadata": {
    "collapsed": false,
    "pycharm": {
     "name": "#%%\n"
    }
   }
  },
  {
   "cell_type": "markdown",
   "source": [
    "#### IMDb"
   ],
   "metadata": {
    "collapsed": false,
    "pycharm": {
     "name": "#%% md\n"
    }
   }
  },
  {
   "cell_type": "code",
   "execution_count": 48,
   "outputs": [
    {
     "data": {
      "text/plain": "<seaborn.axisgrid.JointGrid at 0x15b6ea1eef0>"
     },
     "execution_count": 48,
     "metadata": {},
     "output_type": "execute_result"
    },
    {
     "data": {
      "text/plain": "<Figure size 432x432 with 3 Axes>",
      "image/png": "[encoded data removed]"
     },
     "metadata": {
      "needs_background": "light"
     },
     "output_type": "display_data"
    }
   ],
   "source": [
    "sns.jointplot(x='Released_Year', y='IMDb3', data=shows_filtrado, kind='kde', color=\"#fc8d59\")"
   ],
   "metadata": {
    "collapsed": false,
    "pycharm": {
     "name": "#%%\n"
    }
   }
  },
  {
   "cell_type": "markdown",
   "source": [
    "En el gráfico anterior se puede ver cómo hay una concentración de contenido entre los años 2010 y 2020, con un puntaje más bien intermedio entre 7 y 8 puntos."
   ],
   "metadata": {
    "collapsed": false,
    "pycharm": {
     "name": "#%% md\n"
    }
   }
  },
  {
   "cell_type": "markdown",
   "source": [
    "#### Content Class"
   ],
   "metadata": {
    "collapsed": false,
    "pycharm": {
     "name": "#%% md\n"
    }
   }
  },
  {
   "cell_type": "code",
   "execution_count": 49,
   "outputs": [
    {
     "data": {
      "text/plain": "<AxesSubplot:>"
     },
     "execution_count": 49,
     "metadata": {},
     "output_type": "execute_result"
    },
    {
     "data": {
      "text/plain": "<Figure size 432x288 with 1 Axes>",
      "image/png": "[encoded data removed]"
     },
     "metadata": {
      "needs_background": "light"
     },
     "output_type": "display_data"
    }
   ],
   "source": [
    "shows_filtrado.Content_Class.value_counts().plot(kind=\"bar\")"
   ],
   "metadata": {
    "collapsed": false,
    "pycharm": {
     "name": "#%%\n"
    }
   }
  },
  {
   "cell_type": "markdown",
   "source": [],
   "metadata": {
    "collapsed": false,
    "pycharm": {
     "name": "#%% md\n"
    }
   }
  },
  {
   "cell_type": "code",
   "execution_count": 50,
   "outputs": [
    {
     "data": {
      "text/plain": "tvEpisode       12062\nshort            7989\ntvSeries         3395\nmovie            2265\nvideo             943\ntvMiniSeries      474\ntvMovie           351\nvideoGame         200\ntvShort            34\ntvSpecial          23\nName: Content_Class, dtype: int64"
     },
     "execution_count": 50,
     "metadata": {},
     "output_type": "execute_result"
    }
   ],
   "source": [
    "shows_filtrado.Content_Class.value_counts()"
   ],
   "metadata": {
    "collapsed": false,
    "pycharm": {
     "name": "#%%\n"
    }
   }
  },
  {
   "cell_type": "markdown",
   "source": [
    "Se utilizará el contenido más simbólico que se considera es episodios, series en general y películas."
   ],
   "metadata": {
    "collapsed": false,
    "pycharm": {
     "name": "#%% md\n"
    }
   }
  },
  {
   "cell_type": "code",
   "execution_count": 51,
   "outputs": [],
   "source": [
    "\n",
    "shows_filtrado = shows_filtrado[(shows_filtrado.Content_Class == \"tvEpisode\") | (shows_filtrado.Content_Class == \"tvSeries\") |(shows_filtrado.Content_Class == \"movie\")]"
   ],
   "metadata": {
    "collapsed": false,
    "pycharm": {
     "name": "#%%\n"
    }
   }
  },
  {
   "cell_type": "markdown",
   "source": [
    "#### Genres"
   ],
   "metadata": {
    "collapsed": false,
    "pycharm": {
     "name": "#%% md\n"
    }
   }
  },
  {
   "cell_type": "code",
   "execution_count": 52,
   "outputs": [
    {
     "data": {
      "text/plain": "<AxesSubplot:xlabel='Genres'>"
     },
     "execution_count": 52,
     "metadata": {},
     "output_type": "execute_result"
    },
    {
     "data": {
      "text/plain": "<Figure size 432x288 with 1 Axes>",
      "image/png": "[encoded data removed]"
     },
     "metadata": {
      "needs_background": "light"
     },
     "output_type": "display_data"
    }
   ],
   "source": [
    "shows_con_merge.groupby(\"Genres\").agg(cantidades = (\"ID\", \"count\")).plot.bar()"
   ],
   "metadata": {
    "collapsed": false,
    "pycharm": {
     "name": "#%%\n"
    }
   }
  },
  {
   "cell_type": "code",
   "execution_count": 53,
   "outputs": [
    {
     "data": {
      "text/plain": "Comedy         4140\nDrama          2810\nAction         2129\nDocumentary    1698\nCrime          1189\nReality-TV     1038\nAnimation       845\nAdventure       840\nTalk-Show       559\nFamily          347\nHorror          326\nGame-Show       312\nAdult           282\nBiography       224\nNews            166\nThriller        148\nSci-Fi          131\nMusic           119\nFantasy          99\nRomance          67\nMystery          65\nSport            54\nShort            51\nHistory          44\nMusical          21\nWestern          11\nWar               7\nName: Genres, dtype: int64"
     },
     "execution_count": 53,
     "metadata": {},
     "output_type": "execute_result"
    }
   ],
   "source": [
    "shows_filtrado.Genres.value_counts()"
   ],
   "metadata": {
    "collapsed": false,
    "pycharm": {
     "name": "#%%\n"
    }
   }
  },
  {
   "cell_type": "markdown",
   "source": [
    "Con los géneros, se hará algo similar al tipo de contenido, dejando sólo los más frecuentes."
   ],
   "metadata": {
    "collapsed": false,
    "pycharm": {
     "name": "#%% md\n"
    }
   }
  },
  {
   "cell_type": "code",
   "execution_count": 54,
   "outputs": [],
   "source": [
    "# dejamos solo los géneros mas conocidos\n",
    "shows_filtrado = shows_filtrado[(shows_filtrado.Genres == \"Drama\") | (shows_filtrado.Genres == \"Comedy\") | (shows_filtrado.Genres == \"Action\") | (shows_filtrado.Genres == \"Documentary\")  | (shows_filtrado.Genres == \"Crime\") | (shows_filtrado.Genres == \"Animation\") | (shows_filtrado.Genres == \"Reality-TV\")]"
   ],
   "metadata": {
    "collapsed": false,
    "pycharm": {
     "name": "#%%\n"
    }
   }
  },
  {
   "cell_type": "code",
   "execution_count": 55,
   "outputs": [
    {
     "name": "stdout",
     "output_type": "stream",
     "text": [
      "Para el modelo se utilizará finalmente el dataset show_filtrado con 13849 filas.\n"
     ]
    }
   ],
   "source": [
    "print(f'Para el modelo se utilizará finalmente el dataset show_filtrado con {shows_filtrado.shape[0]} filas.')"
   ],
   "metadata": {
    "collapsed": false,
    "pycharm": {
     "name": "#%%\n"
    }
   }
  },
  {
   "cell_type": "markdown",
   "source": [
    "## Primera aproximación al modelado"
   ],
   "metadata": {
    "collapsed": false,
    "pycharm": {
     "name": "#%% md\n"
    }
   }
  },
  {
   "cell_type": "code",
   "execution_count": 56,
   "outputs": [
    {
     "data": {
      "text/plain": "Index(['Title', 'Netflix', 'Hulu', 'prime_video', 'disney', 'Target', 'ID',\n       'Content_Class', 'Released_Year', 'Genres', 'IMDb3'],\n      dtype='object')"
     },
     "execution_count": 56,
     "metadata": {},
     "output_type": "execute_result"
    }
   ],
   "source": [
    "shows_filtrado.columns\n"
   ],
   "metadata": {
    "collapsed": false,
    "pycharm": {
     "name": "#%%\n"
    }
   }
  },
  {
   "cell_type": "markdown",
   "source": [
    "Para el modelado, la variable *dependiente* será Target y las *independientes*:\n",
    "- netflix\n",
    "- hulu\n",
    "- prime video\n",
    "- disney+\n",
    "- content class\n",
    "- released year\n",
    "- genres\n",
    "- IMDb3"
   ],
   "metadata": {
    "collapsed": false,
    "pycharm": {
     "name": "#%% md\n"
    }
   }
  },
  {
   "cell_type": "code",
   "execution_count": 57,
   "outputs": [],
   "source": [
    "shows_filtrado_modelo = shows_filtrado[[\"Netflix\", \"Hulu\", \"prime_video\", \"disney\",\"Target\", \"Content_Class\", \"Released_Year\", \"Genres\", \"IMDb3\"]]"
   ],
   "metadata": {
    "collapsed": false,
    "pycharm": {
     "name": "#%%\n"
    }
   }
  },
  {
   "cell_type": "code",
   "execution_count": 58,
   "outputs": [
    {
     "data": {
      "text/plain": "Netflix            int64\nHulu               int64\nprime_video        int64\ndisney             int64\nTarget            object\nContent_Class     object\nReleased_Year      int32\nGenres            object\nIMDb3            float64\ndtype: object"
     },
     "execution_count": 58,
     "metadata": {},
     "output_type": "execute_result"
    }
   ],
   "source": [
    "shows_filtrado_modelo.dtypes"
   ],
   "metadata": {
    "collapsed": false,
    "pycharm": {
     "name": "#%%\n"
    }
   }
  },
  {
   "cell_type": "markdown",
   "source": [
    "#### Primer Modelo"
   ],
   "metadata": {
    "collapsed": false,
    "pycharm": {
     "name": "#%% md\n"
    }
   }
  },
  {
   "cell_type": "markdown",
   "source": [
    "Primero se hará un modelo clásico, para evaluar si hay variables que es conveniente no usar en las próximas regresiones y ver como se desarrolla el modelado en general."
   ],
   "metadata": {
    "collapsed": false,
    "pycharm": {
     "name": "#%% md\n"
    }
   }
  },
  {
   "cell_type": "markdown",
   "source": [
    "Para eso, primero ajustaremos la clase target con un label encoder, esto nos permitirá hacer todos los modelados que querramos por transformar los target A y TP a binario."
   ],
   "metadata": {
    "collapsed": false,
    "pycharm": {
     "name": "#%% md\n"
    }
   }
  },
  {
   "cell_type": "code",
   "execution_count": 59,
   "outputs": [
    {
     "data": {
      "text/plain": "A     9543\nTP    4306\nName: Target, dtype: int64"
     },
     "execution_count": 59,
     "metadata": {},
     "output_type": "execute_result"
    }
   ],
   "source": [
    "shows_filtrado_modelo.Target.value_counts()"
   ],
   "metadata": {
    "collapsed": false,
    "pycharm": {
     "name": "#%%\n"
    }
   }
  },
  {
   "cell_type": "code",
   "execution_count": 60,
   "outputs": [
    {
     "name": "stderr",
     "output_type": "stream",
     "text": [
      "C:\\Users\\mszub\\AppData\\Local\\Temp/ipykernel_16168/1553932228.py:3: SettingWithCopyWarning: \n",
      "A value is trying to be set on a copy of a slice from a DataFrame.\n",
      "Try using .loc[row_indexer,col_indexer] = value instead\n",
      "\n",
      "See the caveats in the documentation: https://pandas.pydata.org/pandas-docs/stable/user_guide/indexing.html#returning-a-view-versus-a-copy\n",
      "  shows_filtrado_modelo[\"Target\"] = LabelEncoder().fit_transform(shows_filtrado_modelo['Target'])\n"
     ]
    },
    {
     "data": {
      "text/plain": "   Netflix  Hulu  prime_video  disney  Target Content_Class  Released_Year  \\\n0        1     0            0       0       0      tvSeries           2008   \n2        1     0            0       0       0     tvEpisode           2019   \n3        1     0            0       0       0     tvEpisode           2014   \n4        1     0            0       0       0     tvEpisode           2013   \n5        1     0            0       0       0     tvEpisode           2022   \n\n       Genres  IMDb3  \n0       Crime   9.45  \n2      Comedy   8.60  \n3  Reality-TV   9.40  \n4      Action   9.40  \n5       Crime   9.20  ",
      "text/html": "<div>\n<style scoped>\n    .dataframe tbody tr th:only-of-type {\n        vertical-align: middle;\n    }\n\n    .dataframe tbody tr th {\n        vertical-align: top;\n    }\n\n    .dataframe thead th {\n        text-align: right;\n    }\n</style>\n<table border=\"1\" class=\"dataframe\">\n  <thead>\n    <tr style=\"text-align: right;\">\n      <th></th>\n      <th>Netflix</th>\n      <th>Hulu</th>\n      <th>prime_video</th>\n      <th>disney</th>\n      <th>Target</th>\n      <th>Content_Class</th>\n      <th>Released_Year</th>\n      <th>Genres</th>\n      <th>IMDb3</th>\n    </tr>\n  </thead>\n  <tbody>\n    <tr>\n      <th>0</th>\n      <td>1</td>\n      <td>0</td>\n      <td>0</td>\n      <td>0</td>\n      <td>0</td>\n      <td>tvSeries</td>\n      <td>2008</td>\n      <td>Crime</td>\n      <td>9.45</td>\n    </tr>\n    <tr>\n      <th>2</th>\n      <td>1</td>\n      <td>0</td>\n      <td>0</td>\n      <td>0</td>\n      <td>0</td>\n      <td>tvEpisode</td>\n      <td>2019</td>\n      <td>Comedy</td>\n      <td>8.60</td>\n    </tr>\n    <tr>\n      <th>3</th>\n      <td>1</td>\n      <td>0</td>\n      <td>0</td>\n      <td>0</td>\n      <td>0</td>\n      <td>tvEpisode</td>\n      <td>2014</td>\n      <td>Reality-TV</td>\n      <td>9.40</td>\n    </tr>\n    <tr>\n      <th>4</th>\n      <td>1</td>\n      <td>0</td>\n      <td>0</td>\n      <td>0</td>\n      <td>0</td>\n      <td>tvEpisode</td>\n      <td>2013</td>\n      <td>Action</td>\n      <td>9.40</td>\n    </tr>\n    <tr>\n      <th>5</th>\n      <td>1</td>\n      <td>0</td>\n      <td>0</td>\n      <td>0</td>\n      <td>0</td>\n      <td>tvEpisode</td>\n      <td>2022</td>\n      <td>Crime</td>\n      <td>9.20</td>\n    </tr>\n  </tbody>\n</table>\n</div>"
     },
     "execution_count": 60,
     "metadata": {},
     "output_type": "execute_result"
    }
   ],
   "source": [
    "from sklearn.preprocessing import LabelEncoder\n",
    "\n",
    "shows_filtrado_modelo[\"Target\"] = LabelEncoder().fit_transform(shows_filtrado_modelo['Target'])\n",
    "shows_filtrado_modelo.head()"
   ],
   "metadata": {
    "collapsed": false,
    "pycharm": {
     "name": "#%%\n"
    }
   }
  },
  {
   "cell_type": "code",
   "execution_count": 61,
   "outputs": [
    {
     "data": {
      "text/plain": "0    9543\n1    4306\nName: Target, dtype: int64"
     },
     "execution_count": 61,
     "metadata": {},
     "output_type": "execute_result"
    }
   ],
   "source": [
    "shows_filtrado_modelo.Target.value_counts()"
   ],
   "metadata": {
    "collapsed": false,
    "pycharm": {
     "name": "#%%\n"
    }
   }
  },
  {
   "cell_type": "code",
   "execution_count": 62,
   "outputs": [
    {
     "name": "stdout",
     "output_type": "stream",
     "text": [
      "Optimization terminated successfully.\n",
      "         Current function value: 0.562383\n",
      "         Iterations 6\n",
      "                           Logit Regression Results                           \n",
      "==============================================================================\n",
      "Dep. Variable:                 Target   No. Observations:                13849\n",
      "Model:                          Logit   Df Residuals:                    13834\n",
      "Method:                           MLE   Df Model:                           14\n",
      "Date:                Tue, 06 Dec 2022   Pseudo R-squ.:                 0.09269\n",
      "Time:                        13:38:34   Log-Likelihood:                -7788.4\n",
      "converged:                       True   LL-Null:                       -8584.1\n",
      "Covariance Type:            nonrobust   LLR p-value:                     0.000\n",
      "=================================================================================================\n",
      "                                    coef    std err          z      P>|z|      [0.025      0.975]\n",
      "-------------------------------------------------------------------------------------------------\n",
      "Intercept                        25.3881      4.719      5.380      0.000      16.139      34.638\n",
      "C(Content_Class)[T.tvEpisode]     0.3115      0.065      4.768      0.000       0.183       0.440\n",
      "C(Content_Class)[T.tvSeries]      0.5057      0.074      6.832      0.000       0.361       0.651\n",
      "C(Genres)[T.Animation]            0.4445      0.090      4.917      0.000       0.267       0.622\n",
      "C(Genres)[T.Comedy]               0.2030      0.062      3.298      0.001       0.082       0.324\n",
      "C(Genres)[T.Crime]               -0.3417      0.089     -3.830      0.000      -0.517      -0.167\n",
      "C(Genres)[T.Documentary]          0.1622      0.075      2.168      0.030       0.016       0.309\n",
      "C(Genres)[T.Drama]               -0.1740      0.068     -2.541      0.011      -0.308      -0.040\n",
      "C(Genres)[T.Reality-TV]           0.4185      0.085      4.940      0.000       0.252       0.585\n",
      "Netflix                          -0.4357      0.053     -8.286      0.000      -0.539      -0.333\n",
      "Hulu                              0.1114      0.051      2.176      0.030       0.011       0.212\n",
      "prime_video                       0.2750      0.052      5.316      0.000       0.174       0.376\n",
      "disney                            2.3125      0.102     22.643      0.000       2.112       2.513\n",
      "Released_Year                    -0.0121      0.002     -5.155      0.000      -0.017      -0.007\n",
      "IMDb3                            -0.3231      0.021    -15.507      0.000      -0.364      -0.282\n",
      "=================================================================================================\n"
     ]
    }
   ],
   "source": [
    "import statsmodels.formula.api as smf\n",
    "modelo = smf.logit(formula='Target ~ Netflix + Hulu + prime_video + disney + C(Content_Class) + Released_Year + C(Genres) + IMDb3 ', data=shows_filtrado_modelo).fit()\n",
    "print(modelo.summary())"
   ],
   "metadata": {
    "collapsed": false,
    "pycharm": {
     "name": "#%%\n"
    }
   }
  },
  {
   "cell_type": "markdown",
   "source": [
    "En primer lugar, el valor intercept de 25,38 nos dice lo siguiente: si no tuvieramos ninguno de los datos que estamos teniendo en cuenta (plataformas, año, género, etc.), hay un log-odds de 25,38 de que ese contenido sea para todo público.\n",
    "Mirando los coeficientes de las otras variables, cada uno significa que, dejando una fija y todo el resto en cero, aumentar en 1 ese valor, representa un aumento o disminución de la probabilidad de que el contenido sea para todo público. El porcentaje de aumento o disminución es igual a exp(valor del coeficiente).\n",
    "La variable con el coeficiente más 'fuerte' es disney. Esto significa que si el contenido a evaluar se encuentra allí, la probabilidad de que sea apto para todo público incremente notoriamente. Por otro lado, la más negativa es crime, dejando en evidencia que ese contenido claramente es para adultos u adolescentes.\n",
    "Otro punto a resaltar, es que los p valores de las variables independientes utilizadas son 0 o números cercanos a este. Esto quiere decir que todas son relevantes para el análisis en mayor o menor medida.\n"
   ],
   "metadata": {
    "collapsed": false,
    "pycharm": {
     "name": "#%% md\n"
    }
   }
  },
  {
   "cell_type": "markdown",
   "source": [
    "Para seguir mejorando el análisis, primero se escalarán las variables numéricas y se encodearán las categóricas. De esta forma se buscará lograr un mejor puntaje de accuracy para que las predicciones sean de mejor calidad."
   ],
   "metadata": {
    "collapsed": false,
    "pycharm": {
     "name": "#%% md\n"
    }
   }
  },
  {
   "cell_type": "markdown",
   "source": [
    "## Escalado de variables\n",
    "### Tratamiento a las variables numéricas"
   ],
   "metadata": {
    "collapsed": false,
    "pycharm": {
     "name": "#%% md\n"
    }
   }
  },
  {
   "cell_type": "markdown",
   "source": [
    "#### Released Year"
   ],
   "metadata": {
    "collapsed": false,
    "pycharm": {
     "name": "#%% md\n"
    }
   }
  },
  {
   "cell_type": "code",
   "execution_count": 63,
   "outputs": [
    {
     "data": {
      "text/plain": "<AxesSubplot:title={'center':'Boxplot de Released_Year'}, xlabel='Released_Year'>"
     },
     "execution_count": 63,
     "metadata": {},
     "output_type": "execute_result"
    },
    {
     "data": {
      "text/plain": "<Figure size 720x360 with 2 Axes>",
      "image/png": "[encoded data removed]"
     },
     "metadata": {
      "needs_background": "light"
     },
     "output_type": "display_data"
    }
   ],
   "source": [
    "variable = 'Released_Year'\n",
    "fig, ax = plt.subplots(1,2,figsize = (10,5))\n",
    "ax[0].set_title(f\"dsitribucion de {variable}\")\n",
    "sns.histplot(data = shows_filtrado_modelo, x = f\"{variable}\", kde = True, ax = ax[0])\n",
    "ax[1].set_title(f\"Boxplot de {variable}\")\n",
    "sns.boxplot(data = shows_filtrado_modelo, x = f\"{variable}\", ax= ax[1])"
   ],
   "metadata": {
    "collapsed": false,
    "pycharm": {
     "name": "#%%\n"
    }
   }
  },
  {
   "cell_type": "markdown",
   "source": [
    "Esta variable sigue una distribución con tendencia normal y presenta outliers en el extremo inferior. Se realizará un escalado robusto."
   ],
   "metadata": {
    "collapsed": false,
    "pycharm": {
     "name": "#%% md\n"
    }
   }
  },
  {
   "cell_type": "code",
   "execution_count": 64,
   "outputs": [
    {
     "name": "stderr",
     "output_type": "stream",
     "text": [
      "C:\\Users\\mszub\\AppData\\Local\\Temp/ipykernel_16168/662383843.py:3: SettingWithCopyWarning: \n",
      "A value is trying to be set on a copy of a slice from a DataFrame.\n",
      "Try using .loc[row_indexer,col_indexer] = value instead\n",
      "\n",
      "See the caveats in the documentation: https://pandas.pydata.org/pandas-docs/stable/user_guide/indexing.html#returning-a-view-versus-a-copy\n",
      "  shows_filtrado_modelo[\"Released_Year\"] = rb_scaler.fit_transform(shows_filtrado_modelo[[\"Released_Year\"]])\n"
     ]
    }
   ],
   "source": [
    "from sklearn.preprocessing import RobustScaler\n",
    "rb_scaler = RobustScaler()\n",
    "shows_filtrado_modelo[\"Released_Year\"] = rb_scaler.fit_transform(shows_filtrado_modelo[[\"Released_Year\"]])"
   ],
   "metadata": {
    "collapsed": false,
    "pycharm": {
     "name": "#%%\n"
    }
   }
  },
  {
   "cell_type": "markdown",
   "source": [
    "### IMDb3"
   ],
   "metadata": {
    "collapsed": false,
    "pycharm": {
     "name": "#%% md\n"
    }
   }
  },
  {
   "cell_type": "code",
   "execution_count": 65,
   "outputs": [
    {
     "data": {
      "text/plain": "<AxesSubplot:title={'center':'Boxplot de IMDb3'}, xlabel='IMDb3'>"
     },
     "execution_count": 65,
     "metadata": {},
     "output_type": "execute_result"
    },
    {
     "data": {
      "text/plain": "<Figure size 720x360 with 2 Axes>",
      "image/png": "[encoded data removed]"
     },
     "metadata": {
      "needs_background": "light"
     },
     "output_type": "display_data"
    }
   ],
   "source": [
    "variable = 'IMDb3'\n",
    "fig, ax = plt.subplots(1,2,figsize = (10,5))\n",
    "ax[0].set_title(f\"dsitribucion de {variable}\")\n",
    "sns.histplot(data = shows_filtrado_modelo, x = f\"{variable}\", kde = True, ax = ax[0])\n",
    "ax[1].set_title(f\"Boxplot de {variable}\")\n",
    "sns.boxplot(data = shows_filtrado_modelo, x = f\"{variable}\", ax= ax[1])"
   ],
   "metadata": {
    "collapsed": false,
    "pycharm": {
     "name": "#%%\n"
    }
   }
  },
  {
   "cell_type": "markdown",
   "source": [
    "Esta variable también sigue una distribución normal con outliers, por ese motivo también se hará un escalado robusto."
   ],
   "metadata": {
    "collapsed": false,
    "pycharm": {
     "name": "#%% md\n"
    }
   }
  },
  {
   "cell_type": "code",
   "execution_count": 66,
   "outputs": [
    {
     "name": "stderr",
     "output_type": "stream",
     "text": [
      "C:\\Users\\mszub\\AppData\\Local\\Temp/ipykernel_16168/2242800925.py:2: SettingWithCopyWarning: \n",
      "A value is trying to be set on a copy of a slice from a DataFrame.\n",
      "Try using .loc[row_indexer,col_indexer] = value instead\n",
      "\n",
      "See the caveats in the documentation: https://pandas.pydata.org/pandas-docs/stable/user_guide/indexing.html#returning-a-view-versus-a-copy\n",
      "  shows_filtrado_modelo[\"IMDb3\"] = rb_scaler.fit_transform(shows_filtrado_modelo[[\"IMDb3\"]])\n"
     ]
    }
   ],
   "source": [
    "rb_scaler = RobustScaler()\n",
    "shows_filtrado_modelo[\"IMDb3\"] = rb_scaler.fit_transform(shows_filtrado_modelo[[\"IMDb3\"]])"
   ],
   "metadata": {
    "collapsed": false,
    "pycharm": {
     "name": "#%%\n"
    }
   }
  },
  {
   "cell_type": "markdown",
   "source": [
    "### Tratamiento variables categóricas"
   ],
   "metadata": {
    "collapsed": false,
    "pycharm": {
     "name": "#%% md\n"
    }
   }
  },
  {
   "cell_type": "markdown",
   "source": [
    "#### Content class"
   ],
   "metadata": {
    "collapsed": false,
    "pycharm": {
     "name": "#%% md\n"
    }
   }
  },
  {
   "cell_type": "code",
   "execution_count": 67,
   "outputs": [
    {
     "data": {
      "text/plain": "tvEpisode    9347\ntvSeries     2718\nmovie        1784\nName: Content_Class, dtype: int64"
     },
     "execution_count": 67,
     "metadata": {},
     "output_type": "execute_result"
    }
   ],
   "source": [
    "shows_filtrado_modelo.Content_Class.value_counts()"
   ],
   "metadata": {
    "collapsed": false,
    "pycharm": {
     "name": "#%%\n"
    }
   }
  },
  {
   "cell_type": "markdown",
   "source": [
    "En este caso se empleará one hot encoder para separar esta columna en 10, una por cada tipo. Atribuyéndole el valor 1 si el título pertenece a la categoría y 0 en caso contrario."
   ],
   "metadata": {
    "collapsed": false,
    "pycharm": {
     "name": "#%% md\n"
    }
   }
  },
  {
   "cell_type": "code",
   "execution_count": 68,
   "outputs": [
    {
     "data": {
      "text/plain": "[array(['movie', 'tvEpisode', 'tvSeries'], dtype=object)]"
     },
     "metadata": {},
     "output_type": "display_data"
    },
    {
     "data": {
      "text/plain": "array(['Content_Class_movie', 'Content_Class_tvEpisode',\n       'Content_Class_tvSeries'], dtype=object)"
     },
     "metadata": {},
     "output_type": "display_data"
    },
    {
     "name": "stderr",
     "output_type": "stream",
     "text": [
      "C:\\Users\\mszub\\Documents\\POO\\lib\\site-packages\\pandas\\core\\frame.py:3678: SettingWithCopyWarning: \n",
      "A value is trying to be set on a copy of a slice from a DataFrame.\n",
      "Try using .loc[row_indexer,col_indexer] = value instead\n",
      "\n",
      "See the caveats in the documentation: https://pandas.pydata.org/pandas-docs/stable/user_guide/indexing.html#returning-a-view-versus-a-copy\n",
      "  self[col] = igetitem(value, i)\n"
     ]
    },
    {
     "data": {
      "text/plain": "   Netflix  Hulu  prime_video  disney  Target  Released_Year      Genres  \\\n0        1     0            0       0       0      -0.545455       Crime   \n2        1     0            0       0       0       0.454545      Comedy   \n3        1     0            0       0       0       0.000000  Reality-TV   \n4        1     0            0       0       0      -0.090909      Action   \n5        1     0            0       0       0       0.727273       Crime   \n\n      IMDb3  Content_Class_movie  Content_Class_tvEpisode  \\\n0  1.863636                  0.0                      0.0   \n2  1.090909                  0.0                      1.0   \n3  1.818182                  0.0                      1.0   \n4  1.818182                  0.0                      1.0   \n5  1.636364                  0.0                      1.0   \n\n   Content_Class_tvSeries  \n0                     1.0  \n2                     0.0  \n3                     0.0  \n4                     0.0  \n5                     0.0  ",
      "text/html": "<div>\n<style scoped>\n    .dataframe tbody tr th:only-of-type {\n        vertical-align: middle;\n    }\n\n    .dataframe tbody tr th {\n        vertical-align: top;\n    }\n\n    .dataframe thead th {\n        text-align: right;\n    }\n</style>\n<table border=\"1\" class=\"dataframe\">\n  <thead>\n    <tr style=\"text-align: right;\">\n      <th></th>\n      <th>Netflix</th>\n      <th>Hulu</th>\n      <th>prime_video</th>\n      <th>disney</th>\n      <th>Target</th>\n      <th>Released_Year</th>\n      <th>Genres</th>\n      <th>IMDb3</th>\n      <th>Content_Class_movie</th>\n      <th>Content_Class_tvEpisode</th>\n      <th>Content_Class_tvSeries</th>\n    </tr>\n  </thead>\n  <tbody>\n    <tr>\n      <th>0</th>\n      <td>1</td>\n      <td>0</td>\n      <td>0</td>\n      <td>0</td>\n      <td>0</td>\n      <td>-0.545455</td>\n      <td>Crime</td>\n      <td>1.863636</td>\n      <td>0.0</td>\n      <td>0.0</td>\n      <td>1.0</td>\n    </tr>\n    <tr>\n      <th>2</th>\n      <td>1</td>\n      <td>0</td>\n      <td>0</td>\n      <td>0</td>\n      <td>0</td>\n      <td>0.454545</td>\n      <td>Comedy</td>\n      <td>1.090909</td>\n      <td>0.0</td>\n      <td>1.0</td>\n      <td>0.0</td>\n    </tr>\n    <tr>\n      <th>3</th>\n      <td>1</td>\n      <td>0</td>\n      <td>0</td>\n      <td>0</td>\n      <td>0</td>\n      <td>0.000000</td>\n      <td>Reality-TV</td>\n      <td>1.818182</td>\n      <td>0.0</td>\n      <td>1.0</td>\n      <td>0.0</td>\n    </tr>\n    <tr>\n      <th>4</th>\n      <td>1</td>\n      <td>0</td>\n      <td>0</td>\n      <td>0</td>\n      <td>0</td>\n      <td>-0.090909</td>\n      <td>Action</td>\n      <td>1.818182</td>\n      <td>0.0</td>\n      <td>1.0</td>\n      <td>0.0</td>\n    </tr>\n    <tr>\n      <th>5</th>\n      <td>1</td>\n      <td>0</td>\n      <td>0</td>\n      <td>0</td>\n      <td>0</td>\n      <td>0.727273</td>\n      <td>Crime</td>\n      <td>1.636364</td>\n      <td>0.0</td>\n      <td>1.0</td>\n      <td>0.0</td>\n    </tr>\n  </tbody>\n</table>\n</div>"
     },
     "execution_count": 68,
     "metadata": {},
     "output_type": "execute_result"
    }
   ],
   "source": [
    "from sklearn.preprocessing import OneHotEncoder\n",
    "\n",
    "ohe = OneHotEncoder(sparse=False)\n",
    "ohe.fit(shows_filtrado_modelo[['Content_Class']])\n",
    "display(ohe.categories_)\n",
    "display(ohe.get_feature_names_out())\n",
    "content_class_encoded = ohe.transform(shows_filtrado_modelo[['Content_Class']])\n",
    "\n",
    "shows_filtrado_modelo[ohe.get_feature_names_out()] = content_class_encoded\n",
    "\n",
    "shows_filtrado_modelo.drop(columns='Content_Class', inplace = True)\n",
    "shows_filtrado_modelo.head()"
   ],
   "metadata": {
    "collapsed": false,
    "pycharm": {
     "name": "#%%\n"
    }
   }
  },
  {
   "cell_type": "markdown",
   "source": [
    "#### Genre"
   ],
   "metadata": {
    "collapsed": false,
    "pycharm": {
     "name": "#%% md\n"
    }
   }
  },
  {
   "cell_type": "code",
   "execution_count": 69,
   "outputs": [
    {
     "data": {
      "text/plain": "[array(['Action', 'Animation', 'Comedy', 'Crime', 'Documentary', 'Drama',\n        'Reality-TV'], dtype=object)]"
     },
     "metadata": {},
     "output_type": "display_data"
    },
    {
     "data": {
      "text/plain": "array(['Genres_Action', 'Genres_Animation', 'Genres_Comedy',\n       'Genres_Crime', 'Genres_Documentary', 'Genres_Drama',\n       'Genres_Reality-TV'], dtype=object)"
     },
     "metadata": {},
     "output_type": "display_data"
    },
    {
     "data": {
      "text/plain": "   Netflix  Hulu  prime_video  disney  Target  Released_Year     IMDb3  \\\n0        1     0            0       0       0      -0.545455  1.863636   \n2        1     0            0       0       0       0.454545  1.090909   \n3        1     0            0       0       0       0.000000  1.818182   \n4        1     0            0       0       0      -0.090909  1.818182   \n5        1     0            0       0       0       0.727273  1.636364   \n\n   Content_Class_movie  Content_Class_tvEpisode  Content_Class_tvSeries  \\\n0                  0.0                      0.0                     1.0   \n2                  0.0                      1.0                     0.0   \n3                  0.0                      1.0                     0.0   \n4                  0.0                      1.0                     0.0   \n5                  0.0                      1.0                     0.0   \n\n   Genres_Action  Genres_Animation  Genres_Comedy  Genres_Crime  \\\n0            0.0               0.0            0.0           1.0   \n2            0.0               0.0            1.0           0.0   \n3            0.0               0.0            0.0           0.0   \n4            1.0               0.0            0.0           0.0   \n5            0.0               0.0            0.0           1.0   \n\n   Genres_Documentary  Genres_Drama  Genres_Reality-TV  \n0                 0.0           0.0                0.0  \n2                 0.0           0.0                0.0  \n3                 0.0           0.0                1.0  \n4                 0.0           0.0                0.0  \n5                 0.0           0.0                0.0  ",
      "text/html": "<div>\n<style scoped>\n    .dataframe tbody tr th:only-of-type {\n        vertical-align: middle;\n    }\n\n    .dataframe tbody tr th {\n        vertical-align: top;\n    }\n\n    .dataframe thead th {\n        text-align: right;\n    }\n</style>\n<table border=\"1\" class=\"dataframe\">\n  <thead>\n    <tr style=\"text-align: right;\">\n      <th></th>\n      <th>Netflix</th>\n      <th>Hulu</th>\n      <th>prime_video</th>\n      <th>disney</th>\n      <th>Target</th>\n      <th>Released_Year</th>\n      <th>IMDb3</th>\n      <th>Content_Class_movie</th>\n      <th>Content_Class_tvEpisode</th>\n      <th>Content_Class_tvSeries</th>\n      <th>Genres_Action</th>\n      <th>Genres_Animation</th>\n      <th>Genres_Comedy</th>\n      <th>Genres_Crime</th>\n      <th>Genres_Documentary</th>\n      <th>Genres_Drama</th>\n      <th>Genres_Reality-TV</th>\n    </tr>\n  </thead>\n  <tbody>\n    <tr>\n      <th>0</th>\n      <td>1</td>\n      <td>0</td>\n      <td>0</td>\n      <td>0</td>\n      <td>0</td>\n      <td>-0.545455</td>\n      <td>1.863636</td>\n      <td>0.0</td>\n      <td>0.0</td>\n      <td>1.0</td>\n      <td>0.0</td>\n      <td>0.0</td>\n      <td>0.0</td>\n      <td>1.0</td>\n      <td>0.0</td>\n      <td>0.0</td>\n      <td>0.0</td>\n    </tr>\n    <tr>\n      <th>2</th>\n      <td>1</td>\n      <td>0</td>\n      <td>0</td>\n      <td>0</td>\n      <td>0</td>\n      <td>0.454545</td>\n      <td>1.090909</td>\n      <td>0.0</td>\n      <td>1.0</td>\n      <td>0.0</td>\n      <td>0.0</td>\n      <td>0.0</td>\n      <td>1.0</td>\n      <td>0.0</td>\n      <td>0.0</td>\n      <td>0.0</td>\n      <td>0.0</td>\n    </tr>\n    <tr>\n      <th>3</th>\n      <td>1</td>\n      <td>0</td>\n      <td>0</td>\n      <td>0</td>\n      <td>0</td>\n      <td>0.000000</td>\n      <td>1.818182</td>\n      <td>0.0</td>\n      <td>1.0</td>\n      <td>0.0</td>\n      <td>0.0</td>\n      <td>0.0</td>\n      <td>0.0</td>\n      <td>0.0</td>\n      <td>0.0</td>\n      <td>0.0</td>\n      <td>1.0</td>\n    </tr>\n    <tr>\n      <th>4</th>\n      <td>1</td>\n      <td>0</td>\n      <td>0</td>\n      <td>0</td>\n      <td>0</td>\n      <td>-0.090909</td>\n      <td>1.818182</td>\n      <td>0.0</td>\n      <td>1.0</td>\n      <td>0.0</td>\n      <td>1.0</td>\n      <td>0.0</td>\n      <td>0.0</td>\n      <td>0.0</td>\n      <td>0.0</td>\n      <td>0.0</td>\n      <td>0.0</td>\n    </tr>\n    <tr>\n      <th>5</th>\n      <td>1</td>\n      <td>0</td>\n      <td>0</td>\n      <td>0</td>\n      <td>0</td>\n      <td>0.727273</td>\n      <td>1.636364</td>\n      <td>0.0</td>\n      <td>1.0</td>\n      <td>0.0</td>\n      <td>0.0</td>\n      <td>0.0</td>\n      <td>0.0</td>\n      <td>1.0</td>\n      <td>0.0</td>\n      <td>0.0</td>\n      <td>0.0</td>\n    </tr>\n  </tbody>\n</table>\n</div>"
     },
     "execution_count": 69,
     "metadata": {},
     "output_type": "execute_result"
    }
   ],
   "source": [
    "ohe = OneHotEncoder(sparse=False)\n",
    "ohe.fit(shows_filtrado_modelo[['Genres']])\n",
    "display(ohe.categories_)\n",
    "display(ohe.get_feature_names_out())\n",
    "content_class_encoded = ohe.transform(shows_filtrado_modelo[['Genres']])\n",
    "\n",
    "shows_filtrado_modelo[ohe.get_feature_names_out()] = content_class_encoded\n",
    "\n",
    "shows_filtrado_modelo.drop(columns='Genres', inplace = True)\n",
    "shows_filtrado_modelo.head()"
   ],
   "metadata": {
    "collapsed": false,
    "pycharm": {
     "name": "#%%\n"
    }
   }
  },
  {
   "cell_type": "markdown",
   "source": [
    "### Permutación de variables por relevancia"
   ],
   "metadata": {
    "collapsed": false,
    "pycharm": {
     "name": "#%% md\n"
    }
   }
  },
  {
   "cell_type": "code",
   "execution_count": 70,
   "outputs": [
    {
     "name": "stdout",
     "output_type": "stream",
     "text": [
      "Antes de la permutación, el score del model es: 0.68\n",
      "Después de la permutación de variables, asi decrece el score en términos de variables:\n"
     ]
    },
    {
     "data": {
      "text/plain": "                    feature feature_importance\n3                    disney           0.055025\n5                     IMDb3           0.014069\n0                   Netflix           0.004054\n4             Released_Year           0.002095\n2               prime_video           0.001387\n10         Genres_Animation           0.001385\n8    Content_Class_tvSeries           0.000952\n6       Content_Class_movie           0.000668\n12             Genres_Crime           0.000626\n1                      Hulu           0.000509\n15        Genres_Reality-TV           0.000485\n14             Genres_Drama           0.000485\n11            Genres_Comedy           0.000408\n13       Genres_Documentary          -0.000097\n7   Content_Class_tvEpisode          -0.000323\n9             Genres_Action          -0.000498",
      "text/html": "<div>\n<style scoped>\n    .dataframe tbody tr th:only-of-type {\n        vertical-align: middle;\n    }\n\n    .dataframe tbody tr th {\n        vertical-align: top;\n    }\n\n    .dataframe thead th {\n        text-align: right;\n    }\n</style>\n<table border=\"1\" class=\"dataframe\">\n  <thead>\n    <tr style=\"text-align: right;\">\n      <th></th>\n      <th>feature</th>\n      <th>feature_importance</th>\n    </tr>\n  </thead>\n  <tbody>\n    <tr>\n      <th>3</th>\n      <td>disney</td>\n      <td>0.055025</td>\n    </tr>\n    <tr>\n      <th>5</th>\n      <td>IMDb3</td>\n      <td>0.014069</td>\n    </tr>\n    <tr>\n      <th>0</th>\n      <td>Netflix</td>\n      <td>0.004054</td>\n    </tr>\n    <tr>\n      <th>4</th>\n      <td>Released_Year</td>\n      <td>0.002095</td>\n    </tr>\n    <tr>\n      <th>2</th>\n      <td>prime_video</td>\n      <td>0.001387</td>\n    </tr>\n    <tr>\n      <th>10</th>\n      <td>Genres_Animation</td>\n      <td>0.001385</td>\n    </tr>\n    <tr>\n      <th>8</th>\n      <td>Content_Class_tvSeries</td>\n      <td>0.000952</td>\n    </tr>\n    <tr>\n      <th>6</th>\n      <td>Content_Class_movie</td>\n      <td>0.000668</td>\n    </tr>\n    <tr>\n      <th>12</th>\n      <td>Genres_Crime</td>\n      <td>0.000626</td>\n    </tr>\n    <tr>\n      <th>1</th>\n      <td>Hulu</td>\n      <td>0.000509</td>\n    </tr>\n    <tr>\n      <th>15</th>\n      <td>Genres_Reality-TV</td>\n      <td>0.000485</td>\n    </tr>\n    <tr>\n      <th>14</th>\n      <td>Genres_Drama</td>\n      <td>0.000485</td>\n    </tr>\n    <tr>\n      <th>11</th>\n      <td>Genres_Comedy</td>\n      <td>0.000408</td>\n    </tr>\n    <tr>\n      <th>13</th>\n      <td>Genres_Documentary</td>\n      <td>-0.000097</td>\n    </tr>\n    <tr>\n      <th>7</th>\n      <td>Content_Class_tvEpisode</td>\n      <td>-0.000323</td>\n    </tr>\n    <tr>\n      <th>9</th>\n      <td>Genres_Action</td>\n      <td>-0.000498</td>\n    </tr>\n  </tbody>\n</table>\n</div>"
     },
     "execution_count": 70,
     "metadata": {},
     "output_type": "execute_result"
    }
   ],
   "source": [
    "from sklearn.model_selection import cross_validate\n",
    "from sklearn.inspection import permutation_importance\n",
    "from sklearn.linear_model import LogisticRegression\n",
    "X = shows_filtrado_modelo.drop(columns=['Target'])\n",
    "y = shows_filtrado_modelo[\"Target\"]\n",
    "model = LogisticRegression()\n",
    "cv_results = cross_validate(model, X, y, cv = 10)\n",
    "score = cv_results[\"test_score\"].mean()\n",
    "print(f\"Antes de la permutación, el score del model es: {round(score,2)}\")\n",
    "\n",
    "\n",
    "model = LogisticRegression().fit(X,y)\n",
    "permutation_score = permutation_importance(model, X, y, n_repeats=100)\n",
    "importance_df = pd.DataFrame(np.vstack((X.columns,\n",
    "                                        permutation_score.importances_mean)).T,\n",
    "                            columns = ['feature','feature_importance'])\n",
    "\n",
    "print(\"Después de la permutación de variables, asi decrece el score en términos de variables:\")\n",
    "importance_df = importance_df.sort_values(by=\"feature_importance\", ascending = False)\n",
    "importance_df"
   ],
   "metadata": {
    "collapsed": false,
    "pycharm": {
     "name": "#%%\n"
    }
   }
  },
  {
   "cell_type": "code",
   "execution_count": 71,
   "outputs": [
    {
     "data": {
      "text/plain": "array(['prime_video', 'Genres_Animation', 'Content_Class_tvSeries',\n       'Content_Class_movie', 'Genres_Crime', 'Hulu', 'Genres_Reality-TV',\n       'Genres_Drama', 'Genres_Comedy', 'Genres_Documentary',\n       'Content_Class_tvEpisode', 'Genres_Action'], dtype=object)"
     },
     "execution_count": 71,
     "metadata": {},
     "output_type": "execute_result"
    }
   ],
   "source": [
    "umbral = 0.0014\n",
    "weak_features = importance_df[importance_df.feature_importance <= umbral][\"feature\"].values\n",
    "weak_features"
   ],
   "metadata": {
    "collapsed": false,
    "pycharm": {
     "name": "#%%\n"
    }
   }
  },
  {
   "cell_type": "markdown",
   "source": [
    "### Segundo Modelo\n",
    "En este modelo se usarán únicamente las variables 'fuertes' calculadas anteriormente"
   ],
   "metadata": {
    "collapsed": false,
    "pycharm": {
     "name": "#%% md\n"
    }
   }
  },
  {
   "cell_type": "code",
   "execution_count": 72,
   "outputs": [
    {
     "name": "stdout",
     "output_type": "stream",
     "text": [
      "Las variables fuertes son ['Netflix', 'disney', 'Released_Year', 'IMDb3']\n",
      "El nuevo score es: 0.7250423134940347\n"
     ]
    }
   ],
   "source": [
    "from sklearn.model_selection import cross_val_score\n",
    "X_strong_features = shows_filtrado_modelo.drop(columns=list(weak_features) + [\"Target\"])\n",
    "\n",
    "print(f\"Las variables fuertes son {list(X_strong_features.columns)}\")\n",
    "\n",
    "model = LogisticRegression()\n",
    "\n",
    "scores = cross_val_score(model, X_strong_features, y, cv = 5)\n",
    "strong_model_score = scores.mean()\n",
    "print(\"El nuevo score es:\", strong_model_score)"
   ],
   "metadata": {
    "collapsed": false,
    "pycharm": {
     "name": "#%%\n"
    }
   }
  },
  {
   "cell_type": "markdown",
   "source": [
    "### Tercer Modelo: separación de datos entre train y test"
   ],
   "metadata": {
    "collapsed": false,
    "pycharm": {
     "name": "#%% md\n"
    }
   }
  },
  {
   "cell_type": "code",
   "execution_count": 73,
   "outputs": [
    {
     "name": "stdout",
     "output_type": "stream",
     "text": [
      "Accuracy on test set:  0.7324909747292419\n"
     ]
    }
   ],
   "source": [
    "from sklearn.linear_model import LogisticRegression\n",
    "from sklearn.model_selection import cross_val_score\n",
    "from sklearn.model_selection import train_test_split\n",
    "X = shows_filtrado_modelo.drop(columns=list(weak_features) + [\"Target\"])\n",
    "y = shows_filtrado_modelo[\"Target\"]\n",
    "\n",
    "X_train, X_test, y_train, y_test = train_test_split(X, y, test_size=0.2                                              , random_state=10)\n",
    "model = LogisticRegression().fit(X_train,y_train)\n",
    "\n",
    "scores = cross_val_score(model, X_test, y_test, cv=10)\n",
    "base_model_score = scores.mean()\n",
    "print('Accuracy on test set: ',base_model_score)\n"
   ],
   "metadata": {
    "collapsed": false,
    "pycharm": {
     "name": "#%%\n"
    }
   }
  },
  {
   "cell_type": "markdown",
   "source": [
    "##### Matriz de Confusión"
   ],
   "metadata": {
    "collapsed": false,
    "pycharm": {
     "name": "#%% md\n"
    }
   }
  },
  {
   "cell_type": "code",
   "execution_count": 75,
   "outputs": [
    {
     "name": "stdout",
     "output_type": "stream",
     "text": [
      "True Positive:  1861 False Negative:  38\n",
      "False Positive:  720 True Negative:  151\n"
     ]
    }
   ],
   "source": [
    "from sklearn.metrics import confusion_matrix\n",
    "predictions = model.predict(X_test)\n",
    "confusion = confusion_matrix(y_test, predictions)\n",
    "print('True Positive: ', confusion[0][0], 'False Negative: ', confusion[0][1])\n",
    "print('False Positive: ', confusion[1][0], 'True Negative: ', confusion[1][1])"
   ],
   "metadata": {
    "collapsed": false,
    "pycharm": {
     "name": "#%%\n"
    }
   }
  },
  {
   "cell_type": "markdown",
   "source": [
    "La matriz de confusión arroja en general buenos reusltados. Como se puede ver, la cantidad de TP es alta pero los FP también. Sin embargo, los TN son bajos en comparación con los TP."
   ],
   "metadata": {
    "collapsed": false,
    "pycharm": {
     "name": "#%% md\n"
    }
   }
  },
  {
   "cell_type": "markdown",
   "source": [
    "##### Precisión"
   ],
   "metadata": {
    "collapsed": false,
    "pycharm": {
     "name": "#%% md\n"
    }
   }
  },
  {
   "cell_type": "code",
   "execution_count": 76,
   "outputs": [
    {
     "data": {
      "text/plain": "0.9799894681411269"
     },
     "execution_count": 76,
     "metadata": {},
     "output_type": "execute_result"
    }
   ],
   "source": [
    "confusion[0,0]/(confusion[0,1]+confusion[0,0])"
   ],
   "metadata": {
    "collapsed": false,
    "pycharm": {
     "name": "#%%\n"
    }
   }
  },
  {
   "cell_type": "markdown",
   "source": [
    "El modelo tiene un alto porcentaje de clasificar a los resultados como positivos."
   ],
   "metadata": {
    "collapsed": false,
    "pycharm": {
     "name": "#%% md\n"
    }
   }
  },
  {
   "cell_type": "markdown",
   "source": [
    "##### Recall"
   ],
   "metadata": {
    "collapsed": false,
    "pycharm": {
     "name": "#%% md\n"
    }
   }
  },
  {
   "cell_type": "code",
   "execution_count": 77,
   "outputs": [
    {
     "data": {
      "text/plain": "0.7210383572258814"
     },
     "execution_count": 77,
     "metadata": {},
     "output_type": "execute_result"
    }
   ],
   "source": [
    "# recall\n",
    "confusion[0,0]/(confusion[1,0]+confusion[0,0])"
   ],
   "metadata": {
    "collapsed": false,
    "pycharm": {
     "name": "#%%\n"
    }
   }
  },
  {
   "cell_type": "markdown",
   "source": [
    "Por el valor del recall, el modelo tiene un buen resultado a la hora de detectar casos positivos."
   ],
   "metadata": {
    "collapsed": false,
    "pycharm": {
     "name": "#%% md\n"
    }
   }
  },
  {
   "cell_type": "code",
   "execution_count": 78,
   "outputs": [
    {
     "name": "stdout",
     "output_type": "stream",
     "text": [
      "              precision    recall  f1-score   support\n",
      "\n",
      "           0       0.72      0.98      0.83      1899\n",
      "           1       0.80      0.17      0.28       871\n",
      "\n",
      "    accuracy                           0.73      2770\n",
      "   macro avg       0.76      0.58      0.56      2770\n",
      "weighted avg       0.75      0.73      0.66      2770\n",
      "\n"
     ]
    }
   ],
   "source": [
    "from sklearn.metrics import classification_report\n",
    "print(classification_report(y_test, predictions))"
   ],
   "metadata": {
    "collapsed": false,
    "pycharm": {
     "name": "#%%\n"
    }
   }
  },
  {
   "cell_type": "markdown",
   "source": [
    "El promedio del puntaje F1 (que muestra una combinación entre precisión y sensibilidad) es más bien bajo."
   ],
   "metadata": {
    "collapsed": false,
    "pycharm": {
     "name": "#%% md\n"
    }
   }
  },
  {
   "cell_type": "code",
   "execution_count": 79,
   "outputs": [
    {
     "data": {
      "text/plain": "<Figure size 432x288 with 1 Axes>",
      "image/png": "[encoded data removed]"
     },
     "metadata": {
      "needs_background": "light"
     },
     "output_type": "display_data"
    }
   ],
   "source": [
    "# ROC Curve\n",
    "from sklearn.metrics import roc_auc_score\n",
    "from sklearn.metrics import roc_curve\n",
    "X_train, X_test, y_train, y_test = train_test_split(X, y,\n",
    "                                                    test_size=0.2, random_state=100)\n",
    "\n",
    "regressor = LogisticRegression()\n",
    "regressor.fit(X_train, y_train)\n",
    "logit_roc_auc = roc_auc_score(y_test, predictions)\n",
    "fpr, tpr, thresholds = roc_curve(y_test, regressor.predict_proba(X_test)[:, 1])\n",
    "\n",
    "plt.figure()\n",
    "plt.plot(fpr, tpr, label='Logistic Regression (area=%0.2f)' % logit_roc_auc)\n",
    "plt.plot([0, 1], [0, 1], 'r--')\n",
    "plt.xlim([0.0, 1.0])\n",
    "plt.ylim([0.0, 1.05])\n",
    "plt.xlabel('False Positive Rate')\n",
    "plt.ylabel('True Positive Rate')\n",
    "plt.title('ROC Curve')\n",
    "plt.legend(loc='lower right')\n",
    "plt.savefig('ROC-Curve')\n",
    "plt.show()"
   ],
   "metadata": {
    "collapsed": false,
    "pycharm": {
     "name": "#%%\n"
    }
   }
  },
  {
   "cell_type": "markdown",
   "source": [
    "En esta curva ROC, la línea roja representa un clasificador aleatorio. Para decir que el modelo es bueno, la curva azul debe permanecer lo más alejada posible de la roja. En este caso, las curvas están separadas, lo que significa que el modelo es bueno en general."
   ],
   "metadata": {
    "collapsed": false,
    "pycharm": {
     "name": "#%% md\n"
    }
   }
  },
  {
   "cell_type": "markdown",
   "source": [
    "### Cuarto Modelo: Estratificación"
   ],
   "metadata": {
    "collapsed": false,
    "pycharm": {
     "name": "#%% md\n"
    }
   }
  },
  {
   "cell_type": "markdown",
   "source": [
    "Ahora veremos si el accuracy del modelo mejora cuando separamos lo más equitativamente posible las variables entre el train y test. De esta forma se busca lograr que las muestras tengan la cantidad de variables distribuidas lo más equitativamente posible."
   ],
   "metadata": {
    "collapsed": false,
    "pycharm": {
     "name": "#%% md\n"
    }
   }
  },
  {
   "cell_type": "markdown",
   "source": [],
   "metadata": {
    "collapsed": false,
    "pycharm": {
     "name": "#%% md\n"
    }
   }
  },
  {
   "cell_type": "code",
   "execution_count": 80,
   "outputs": [
    {
     "name": "stdout",
     "output_type": "stream",
     "text": [
      " El nuevo valor de accuracy es: 0.7289448441247004\n"
     ]
    }
   ],
   "source": [
    "from sklearn.model_selection import train_test_split\n",
    "from sklearn.model_selection import StratifiedKFold\n",
    "\n",
    "\n",
    "\n",
    "X = shows_filtrado_modelo.drop(columns=['Target'])\n",
    "y = shows_filtrado_modelo[\"Target\"]\n",
    "X_train, X_test, y_train, y_test = train_test_split(X, y, test_size=0.2, random_state=10)\n",
    "\n",
    "\n",
    "skf = StratifiedKFold(n_splits=100)\n",
    "scores = []\n",
    "\n",
    "for train_indices, test_indices in skf.split(X, y):\n",
    "    X_train, X_test = X.iloc[train_indices], X.iloc[test_indices]\n",
    "    y_train, y_test = y.iloc[train_indices], y.iloc[test_indices]\n",
    "\n",
    "    model2 = LogisticRegression(max_iter=1000)\n",
    "    model2.fit(X_train, y_train)\n",
    "\n",
    "    scores.append(model2.score(X_test, y_test))\n",
    "\n",
    "print(f\" El nuevo valor de accuracy es: {np.array(scores).mean()}\")"
   ],
   "metadata": {
    "collapsed": false,
    "pycharm": {
     "name": "#%%\n"
    }
   }
  },
  {
   "cell_type": "markdown",
   "source": [
    "En este caso el accuracy es similar al resultado en el modelo anterior. Esto puede dar la pauta de que se llegó al nivel más alto de accuracy que los datos pueden dar."
   ],
   "metadata": {
    "collapsed": false,
    "pycharm": {
     "name": "#%% md\n"
    }
   }
  },
  {
   "cell_type": "markdown",
   "source": [
    "### Predicción"
   ],
   "metadata": {
    "collapsed": false,
    "pycharm": {
     "name": "#%% md\n"
    }
   }
  },
  {
   "cell_type": "code",
   "execution_count": 81,
   "outputs": [
    {
     "data": {
      "text/plain": "Index(['Netflix', 'disney', 'Released_Year', 'IMDb3'], dtype='object')"
     },
     "execution_count": 81,
     "metadata": {},
     "output_type": "execute_result"
    }
   ],
   "source": [
    "shows_filtrado_modelo.drop(columns=list(weak_features) + [\"Target\"]).columns"
   ],
   "metadata": {
    "collapsed": false,
    "pycharm": {
     "name": "#%%\n"
    }
   }
  },
  {
   "cell_type": "markdown",
   "source": [
    "Los datos de la predicción a realizar se deben colocar según el orden anterior."
   ],
   "metadata": {
    "collapsed": false,
    "pycharm": {
     "name": "#%% md\n"
    }
   }
  },
  {
   "cell_type": "code",
   "execution_count": 83,
   "outputs": [
    {
     "data": {
      "text/plain": "0"
     },
     "execution_count": 83,
     "metadata": {},
     "output_type": "execute_result"
    }
   ],
   "source": [
    "# Import the model\n",
    "from sklearn.linear_model import LogisticRegression\n",
    "X = shows_filtrado_modelo.drop(columns=list(weak_features) + [\"Target\"])\n",
    "y = shows_filtrado_modelo[\"Target\"]\n",
    "model_pred = LogisticRegression(max_iter=1000)\n",
    "model_pred.fit(X, y)\n",
    "X_new = pd.DataFrame({'Netflix': [1], 'disney': [0], 'Released_Year': [2019], 'IMDb3': [2.8]})\n",
    "prediction = model_pred.predict(X_new)[0]\n",
    "prediction"
   ],
   "metadata": {
    "collapsed": false,
    "pycharm": {
     "name": "#%%\n"
    }
   }
  },
  {
   "cell_type": "markdown",
   "source": [
    "Se realizó una predicción de contenido en Netflix, con año de estreno 2019 y un puntaje IMDb 2.8. La predicción arrojó que el contenido no sería en principio apto para todo público."
   ],
   "metadata": {
    "collapsed": false,
    "pycharm": {
     "name": "#%% md\n"
    }
   }
  },
  {
   "cell_type": "markdown",
   "source": [
    "### Conclusiones"
   ],
   "metadata": {
    "collapsed": false,
    "pycharm": {
     "name": "#%% md\n"
    }
   }
  },
  {
   "cell_type": "markdown",
   "source": [
    "Luego de realizar un análisis exaustivo sobre qué información podría servir para la predicción, seleccionarla, modelarla y poner a prueba el modelo, se llegó a la conclusión de que el mismo tiene un accuracy medio. El nivel de falsos positivos es relativamente alto, por lo que es posible que a la hora de predecir si un contenido es apto para todo público o no, es resultado sea que sí cuando en realidad no lo es. Con los datos a disposición y las variables que resultaron relevantes, se alcanzó el máximo score posible. Tal vez, considerando otras variables que no estuvieron aquí presentes como buscadores de palabras o géneros menos específicos, se lograra un mejor puntaje."
   ],
   "metadata": {
    "collapsed": false,
    "pycharm": {
     "name": "#%% md\n"
    }
   }
  },
  {
   "cell_type": "code",
   "execution_count": null,
   "outputs": [],
   "source": [],
   "metadata": {
    "collapsed": false,
    "pycharm": {
     "name": "#%%\n"
    }
   }
  }
 ],
 "metadata": {
  "kernelspec": {
   "display_name": "Python 3",
   "language": "python",
   "name": "python3"
  },
  "language_info": {
   "codemirror_mode": {
    "name": "ipython",
    "version": 2
   },
   "file_extension": ".py",
   "mimetype": "text/x-python",
   "name": "python",
   "nbconvert_exporter": "python",
   "pygments_lexer": "ipython2",
   "version": "2.7.6"
  }
 },
 "nbformat": 4,
 "nbformat_minor": 0
}